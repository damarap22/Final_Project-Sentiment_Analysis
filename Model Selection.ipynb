{
 "cells": [
  {
   "cell_type": "code",
   "execution_count": 30,
   "metadata": {
    "execution": {
     "iopub.execute_input": "2020-11-23T12:49:51.486105Z",
     "iopub.status.busy": "2020-11-23T12:49:51.485130Z",
     "iopub.status.idle": "2020-11-23T12:49:51.500745Z",
     "shell.execute_reply": "2020-11-23T12:49:51.499770Z",
     "shell.execute_reply.started": "2020-11-23T12:49:51.486105Z"
    }
   },
   "outputs": [
    {
     "name": "stderr",
     "output_type": "stream",
     "text": [
      "<ipython-input-30-1b1beb271efe>:14: FutureWarning: Passing a negative integer is deprecated in version 1.0 and will not be supported in future version. Instead, use None to not limit the column width.\n",
      "  pd.set_option('display.max_colwidth', -1)\n"
     ]
    }
   ],
   "source": [
    "import pandas as pd\n",
    "import re\n",
    "import spacy\n",
    "import json\n",
    "import string\n",
    "import joblib\n",
    "\n",
    "from spacy.lang.en.stop_words import STOP_WORDS\n",
    "from sklearn.utils import resample\n",
    "from sklearn.feature_extraction.text import CountVectorizer, TfidfVectorizer\n",
    "from sklearn.linear_model import LogisticRegression\n",
    "from sklearn.model_selection import train_test_split, GridSearchCV\n",
    "from sklearn.metrics import recall_score, classification_report, confusion_matrix\n",
    "pd.set_option('display.max_colwidth', -1)"
   ]
  },
  {
   "cell_type": "code",
   "execution_count": 31,
   "metadata": {
    "execution": {
     "iopub.execute_input": "2020-11-23T12:49:51.502698Z",
     "iopub.status.busy": "2020-11-23T12:49:51.501723Z",
     "iopub.status.idle": "2020-11-23T12:49:52.752780Z",
     "shell.execute_reply": "2020-11-23T12:49:52.752780Z",
     "shell.execute_reply.started": "2020-11-23T12:49:51.502698Z"
    }
   },
   "outputs": [],
   "source": [
    "with open('cont_en.json') as file:\n",
    "    contEn = json.load(file)\n",
    "    \n",
    "c_re = re.compile('(%s)' % '|'.join(contEn.keys()))\n",
    "\n",
    "def expandContractions(text, c_re=c_re):         # expanding contractiion into full form word. ex: won't -> will not\n",
    "    def replace(match):\n",
    "        return contEn[match.group(0)]\n",
    "    return c_re.sub(replace, text.lower())\n",
    "\n",
    "def stars(text):\n",
    "    if '*' in text:\n",
    "        word = text.replace('*',' stars') # replacing * symbol with \"star\"\n",
    "    else:\n",
    "        word = text\n",
    "    return word\n",
    "\n",
    "def num2word(text):                        #convert number to string\n",
    "    if len(text) == 1 and text in '12345':\n",
    "        if text == '1':\n",
    "            word = 'one'\n",
    "        elif text == '2':\n",
    "            word = 'two'\n",
    "        elif text == '3':\n",
    "            word = 'three'\n",
    "        elif text == '4':\n",
    "            word = 'four'\n",
    "        elif text == '5':\n",
    "            word = 'five'\n",
    "        else:\n",
    "            word = text\n",
    "    else:\n",
    "        word = text\n",
    "    return word\n",
    "\n",
    "def lemma(word):\n",
    "    lemma_doc = nlp(\" \".join(word)) \n",
    "    lemma_text = [token.text if '_' in token.text else token.lemma_ for token in lemma_doc]\n",
    "    return lemma_text\n",
    "\n",
    "nlp = spacy.load(\"en_core_web_sm\")\n",
    "\n",
    "nlp.Defaults.stop_words -= {\"one\", \"two\",\"three\",\"four\",\"five\"} #removing those word from stop_word\n",
    "stopword = list(STOP_WORDS)\n",
    "\n",
    "stopword2 = stopword\n",
    "stopword2.extend(['good'])"
   ]
  },
  {
   "cell_type": "code",
   "execution_count": 32,
   "metadata": {
    "execution": {
     "iopub.execute_input": "2020-11-23T12:49:52.754733Z",
     "iopub.status.busy": "2020-11-23T12:49:52.753758Z",
     "iopub.status.idle": "2020-11-23T12:49:52.762514Z",
     "shell.execute_reply": "2020-11-23T12:49:52.761540Z",
     "shell.execute_reply.started": "2020-11-23T12:49:52.754733Z"
    }
   },
   "outputs": [],
   "source": [
    "def clean_text(text):\n",
    "    text = stars(text)\n",
    "    text = expandContractions(text)\n",
    "    text = re.split(r'\\W+',text)\n",
    "    text = [num2word(x) for x in text]\n",
    "    text = [x for x in text if x not in string.punctuation]\n",
    "    text = [\"have\" if x == \"ve\" else x for x in text]\n",
    "    text = [\"game\" if x == \"games\" else x for x in text]\n",
    "    text = [\"phone\" if x == \"mobile\" else x for x in text]\n",
    "    text = ' '.join(text).replace('one one','1.1').split()\n",
    "    text = [x for x in text if x not in stopword2 and len(x) > 1 and len(x) <= 45]\n",
    "    return text\n",
    "\n",
    "def tokenizer(bow):\n",
    "    text = clean_text(bow)\n",
    "    text = lemma(text) #,allowed_postags=['NOUN','VERB']\n",
    "    return text"
   ]
  },
  {
   "cell_type": "markdown",
   "metadata": {},
   "source": [
    "#### Data Test Non-Dataset"
   ]
  },
  {
   "cell_type": "code",
   "execution_count": 33,
   "metadata": {
    "execution": {
     "iopub.execute_input": "2020-11-23T12:49:52.765444Z",
     "iopub.status.busy": "2020-11-23T12:49:52.764470Z",
     "iopub.status.idle": "2020-11-23T12:49:52.926868Z",
     "shell.execute_reply": "2020-11-23T12:49:52.926868Z",
     "shell.execute_reply.started": "2020-11-23T12:49:52.765444Z"
    }
   },
   "outputs": [],
   "source": [
    "data = pd.read_csv('test_set.csv')"
   ]
  },
  {
   "cell_type": "code",
   "execution_count": 34,
   "metadata": {
    "execution": {
     "iopub.execute_input": "2020-11-23T12:49:52.928655Z",
     "iopub.status.busy": "2020-11-23T12:49:52.927675Z",
     "iopub.status.idle": "2020-11-23T12:49:52.937445Z",
     "shell.execute_reply": "2020-11-23T12:49:52.934508Z",
     "shell.execute_reply.started": "2020-11-23T12:49:52.928655Z"
    }
   },
   "outputs": [],
   "source": [
    "x = data['content']\n",
    "y = data['sentiment_score']"
   ]
  },
  {
   "cell_type": "code",
   "execution_count": 35,
   "metadata": {
    "execution": {
     "iopub.execute_input": "2020-11-23T12:49:52.939392Z",
     "iopub.status.busy": "2020-11-23T12:49:52.938413Z",
     "iopub.status.idle": "2020-11-23T12:49:54.212144Z",
     "shell.execute_reply": "2020-11-23T12:49:54.212144Z",
     "shell.execute_reply.started": "2020-11-23T12:49:52.939392Z"
    }
   },
   "outputs": [],
   "source": [
    "modelLR = joblib.load('LogRegModel')"
   ]
  },
  {
   "cell_type": "code",
   "execution_count": 36,
   "metadata": {
    "execution": {
     "iopub.execute_input": "2020-11-23T12:49:54.213120Z",
     "iopub.status.busy": "2020-11-23T12:49:54.213120Z",
     "iopub.status.idle": "2020-11-23T12:49:55.435704Z",
     "shell.execute_reply": "2020-11-23T12:49:55.435704Z",
     "shell.execute_reply.started": "2020-11-23T12:49:54.213120Z"
    }
   },
   "outputs": [],
   "source": [
    "modelKNN = joblib.load('KNNClassifier')"
   ]
  },
  {
   "cell_type": "code",
   "execution_count": 37,
   "metadata": {
    "execution": {
     "iopub.execute_input": "2020-11-23T12:49:55.436694Z",
     "iopub.status.busy": "2020-11-23T12:49:55.436694Z",
     "iopub.status.idle": "2020-11-23T12:49:56.307753Z",
     "shell.execute_reply": "2020-11-23T12:49:56.307753Z",
     "shell.execute_reply.started": "2020-11-23T12:49:55.436694Z"
    }
   },
   "outputs": [],
   "source": [
    "modelSVC = joblib.load('SVC')"
   ]
  },
  {
   "cell_type": "code",
   "execution_count": 38,
   "metadata": {
    "execution": {
     "iopub.execute_input": "2020-11-23T12:49:56.309709Z",
     "iopub.status.busy": "2020-11-23T12:49:56.308731Z",
     "iopub.status.idle": "2020-11-23T12:53:33.250710Z",
     "shell.execute_reply": "2020-11-23T12:53:33.245830Z",
     "shell.execute_reply.started": "2020-11-23T12:49:56.309709Z"
    }
   },
   "outputs": [],
   "source": [
    "ylr = modelLR.predict(x)\n",
    "yknn = modelKNN.predict(x)\n",
    "ysvc = modelSVC.predict(x)"
   ]
  },
  {
   "cell_type": "code",
   "execution_count": 39,
   "metadata": {
    "execution": {
     "iopub.execute_input": "2020-11-23T12:53:33.254647Z",
     "iopub.status.busy": "2020-11-23T12:53:33.254647Z",
     "iopub.status.idle": "2020-11-23T12:53:33.649433Z",
     "shell.execute_reply": "2020-11-23T12:53:33.648456Z",
     "shell.execute_reply.started": "2020-11-23T12:53:33.254647Z"
    }
   },
   "outputs": [
    {
     "name": "stdout",
     "output_type": "stream",
     "text": [
      "Logistic Regression\n",
      "              precision    recall  f1-score   support\n",
      "\n",
      "    Negative       0.85      0.84      0.84      2146\n",
      "     Neutral       0.82      0.86      0.84      2147\n",
      "    Positive       0.85      0.80      0.82      2147\n",
      "\n",
      "    accuracy                           0.84      6440\n",
      "   macro avg       0.84      0.84      0.84      6440\n",
      "weighted avg       0.84      0.84      0.84      6440\n",
      "\n",
      "==========\n",
      "KNN\n",
      "              precision    recall  f1-score   support\n",
      "\n",
      "    Negative       0.92      0.69      0.79      2146\n",
      "     Neutral       0.82      0.85      0.84      2147\n",
      "    Positive       0.69      0.84      0.76      2147\n",
      "\n",
      "    accuracy                           0.79      6440\n",
      "   macro avg       0.81      0.79      0.79      6440\n",
      "weighted avg       0.81      0.79      0.79      6440\n",
      "\n",
      "==========\n",
      "Super Vector Machine\n",
      "              precision    recall  f1-score   support\n",
      "\n",
      "    Negative       0.84      0.87      0.85      2146\n",
      "     Neutral       0.86      0.86      0.86      2147\n",
      "    Positive       0.85      0.83      0.84      2147\n",
      "\n",
      "    accuracy                           0.85      6440\n",
      "   macro avg       0.85      0.85      0.85      6440\n",
      "weighted avg       0.85      0.85      0.85      6440\n",
      "\n"
     ]
    }
   ],
   "source": [
    "print('Logistic Regression')\n",
    "print(classification_report(y,ylr))\n",
    "print('==========')\n",
    "print('KNN')\n",
    "print(classification_report(y,yknn))\n",
    "print('==========')\n",
    "print('Super Vector Machine')\n",
    "print(classification_report(y,ysvc))"
   ]
  },
  {
   "cell_type": "code",
   "execution_count": 40,
   "metadata": {
    "execution": {
     "iopub.execute_input": "2020-11-23T12:53:33.653456Z",
     "iopub.status.busy": "2020-11-23T12:53:33.653456Z",
     "iopub.status.idle": "2020-11-23T12:53:33.658216Z",
     "shell.execute_reply": "2020-11-23T12:53:33.658216Z",
     "shell.execute_reply.started": "2020-11-23T12:53:33.653456Z"
    }
   },
   "outputs": [],
   "source": [
    "lab = ['Positive','Negative','Neutral']"
   ]
  },
  {
   "cell_type": "code",
   "execution_count": 41,
   "metadata": {
    "execution": {
     "iopub.execute_input": "2020-11-23T12:53:33.660168Z",
     "iopub.status.busy": "2020-11-23T12:53:33.659191Z",
     "iopub.status.idle": "2020-11-23T12:53:33.698232Z",
     "shell.execute_reply": "2020-11-23T12:53:33.698232Z",
     "shell.execute_reply.started": "2020-11-23T12:53:33.660168Z"
    }
   },
   "outputs": [
    {
     "name": "stdout",
     "output_type": "stream",
     "text": [
      "Logistic Regression\n"
     ]
    },
    {
     "data": {
      "text/html": [
       "<div>\n",
       "<style scoped>\n",
       "    .dataframe tbody tr th:only-of-type {\n",
       "        vertical-align: middle;\n",
       "    }\n",
       "\n",
       "    .dataframe tbody tr th {\n",
       "        vertical-align: top;\n",
       "    }\n",
       "\n",
       "    .dataframe thead th {\n",
       "        text-align: right;\n",
       "    }\n",
       "</style>\n",
       "<table border=\"1\" class=\"dataframe\">\n",
       "  <thead>\n",
       "    <tr style=\"text-align: right;\">\n",
       "      <th></th>\n",
       "      <th>Positive</th>\n",
       "      <th>Negative</th>\n",
       "      <th>Neutral</th>\n",
       "    </tr>\n",
       "  </thead>\n",
       "  <tbody>\n",
       "    <tr>\n",
       "      <th>Positive</th>\n",
       "      <td>1715</td>\n",
       "      <td>193</td>\n",
       "      <td>239</td>\n",
       "    </tr>\n",
       "    <tr>\n",
       "      <th>Negative</th>\n",
       "      <td>161</td>\n",
       "      <td>1812</td>\n",
       "      <td>173</td>\n",
       "    </tr>\n",
       "    <tr>\n",
       "      <th>Neutral</th>\n",
       "      <td>152</td>\n",
       "      <td>138</td>\n",
       "      <td>1857</td>\n",
       "    </tr>\n",
       "  </tbody>\n",
       "</table>\n",
       "</div>"
      ],
      "text/plain": [
       "          Positive  Negative  Neutral\n",
       "Positive  1715      193       239    \n",
       "Negative  161       1812      173    \n",
       "Neutral   152       138       1857   "
      ]
     },
     "execution_count": 41,
     "metadata": {},
     "output_type": "execute_result"
    }
   ],
   "source": [
    "cmlr = confusion_matrix(y,ylr,labels=lab)\n",
    "print('Logistic Regression')\n",
    "pd.DataFrame(cmlr, columns=lab,index=lab)"
   ]
  },
  {
   "cell_type": "code",
   "execution_count": 42,
   "metadata": {
    "execution": {
     "iopub.execute_input": "2020-11-23T12:53:33.699208Z",
     "iopub.status.busy": "2020-11-23T12:53:33.699208Z",
     "iopub.status.idle": "2020-11-23T12:53:33.716810Z",
     "shell.execute_reply": "2020-11-23T12:53:33.716810Z",
     "shell.execute_reply.started": "2020-11-23T12:53:33.699208Z"
    }
   },
   "outputs": [
    {
     "name": "stdout",
     "output_type": "stream",
     "text": [
      "KNN\n"
     ]
    },
    {
     "data": {
      "text/html": [
       "<div>\n",
       "<style scoped>\n",
       "    .dataframe tbody tr th:only-of-type {\n",
       "        vertical-align: middle;\n",
       "    }\n",
       "\n",
       "    .dataframe tbody tr th {\n",
       "        vertical-align: top;\n",
       "    }\n",
       "\n",
       "    .dataframe thead th {\n",
       "        text-align: right;\n",
       "    }\n",
       "</style>\n",
       "<table border=\"1\" class=\"dataframe\">\n",
       "  <thead>\n",
       "    <tr style=\"text-align: right;\">\n",
       "      <th></th>\n",
       "      <th>Positive</th>\n",
       "      <th>Negative</th>\n",
       "      <th>Neutral</th>\n",
       "    </tr>\n",
       "  </thead>\n",
       "  <tbody>\n",
       "    <tr>\n",
       "      <th>Positive</th>\n",
       "      <td>1804</td>\n",
       "      <td>100</td>\n",
       "      <td>243</td>\n",
       "    </tr>\n",
       "    <tr>\n",
       "      <th>Negative</th>\n",
       "      <td>511</td>\n",
       "      <td>1478</td>\n",
       "      <td>157</td>\n",
       "    </tr>\n",
       "    <tr>\n",
       "      <th>Neutral</th>\n",
       "      <td>286</td>\n",
       "      <td>32</td>\n",
       "      <td>1829</td>\n",
       "    </tr>\n",
       "  </tbody>\n",
       "</table>\n",
       "</div>"
      ],
      "text/plain": [
       "          Positive  Negative  Neutral\n",
       "Positive  1804      100       243    \n",
       "Negative  511       1478      157    \n",
       "Neutral   286       32        1829   "
      ]
     },
     "execution_count": 42,
     "metadata": {},
     "output_type": "execute_result"
    }
   ],
   "source": [
    "cmkn = confusion_matrix(y,yknn,labels=lab)\n",
    "print('KNN')\n",
    "pd.DataFrame(cmkn, columns=lab,index=lab)"
   ]
  },
  {
   "cell_type": "code",
   "execution_count": 43,
   "metadata": {
    "execution": {
     "iopub.execute_input": "2020-11-23T12:53:33.717754Z",
     "iopub.status.busy": "2020-11-23T12:53:33.717754Z",
     "iopub.status.idle": "2020-11-23T12:53:33.736911Z",
     "shell.execute_reply": "2020-11-23T12:53:33.736336Z",
     "shell.execute_reply.started": "2020-11-23T12:53:33.717754Z"
    }
   },
   "outputs": [
    {
     "name": "stdout",
     "output_type": "stream",
     "text": [
      "Super Vector Machine\n"
     ]
    },
    {
     "data": {
      "text/html": [
       "<div>\n",
       "<style scoped>\n",
       "    .dataframe tbody tr th:only-of-type {\n",
       "        vertical-align: middle;\n",
       "    }\n",
       "\n",
       "    .dataframe tbody tr th {\n",
       "        vertical-align: top;\n",
       "    }\n",
       "\n",
       "    .dataframe thead th {\n",
       "        text-align: right;\n",
       "    }\n",
       "</style>\n",
       "<table border=\"1\" class=\"dataframe\">\n",
       "  <thead>\n",
       "    <tr style=\"text-align: right;\">\n",
       "      <th></th>\n",
       "      <th>Positive</th>\n",
       "      <th>Negative</th>\n",
       "      <th>Neutral</th>\n",
       "    </tr>\n",
       "  </thead>\n",
       "  <tbody>\n",
       "    <tr>\n",
       "      <th>Positive</th>\n",
       "      <td>1774</td>\n",
       "      <td>213</td>\n",
       "      <td>160</td>\n",
       "    </tr>\n",
       "    <tr>\n",
       "      <th>Negative</th>\n",
       "      <td>149</td>\n",
       "      <td>1858</td>\n",
       "      <td>139</td>\n",
       "    </tr>\n",
       "    <tr>\n",
       "      <th>Neutral</th>\n",
       "      <td>161</td>\n",
       "      <td>132</td>\n",
       "      <td>1854</td>\n",
       "    </tr>\n",
       "  </tbody>\n",
       "</table>\n",
       "</div>"
      ],
      "text/plain": [
       "          Positive  Negative  Neutral\n",
       "Positive  1774      213       160    \n",
       "Negative  149       1858      139    \n",
       "Neutral   161       132       1854   "
      ]
     },
     "execution_count": 43,
     "metadata": {},
     "output_type": "execute_result"
    }
   ],
   "source": [
    "cmsvc = confusion_matrix(y,ysvc,labels=lab)\n",
    "print('Super Vector Machine')\n",
    "pd.DataFrame(cmsvc, columns=lab,index=lab)"
   ]
  },
  {
   "cell_type": "markdown",
   "metadata": {},
   "source": [
    "#### SVC has better performance compared with Logistic Regression and KNNClassifier Models, based on confussion matrix and classification report"
   ]
  },
  {
   "cell_type": "code",
   "execution_count": 44,
   "metadata": {
    "execution": {
     "iopub.execute_input": "2020-11-23T12:53:33.737820Z",
     "iopub.status.busy": "2020-11-23T12:53:33.737820Z",
     "iopub.status.idle": "2020-11-23T12:53:33.743678Z",
     "shell.execute_reply": "2020-11-23T12:53:33.742701Z",
     "shell.execute_reply.started": "2020-11-23T12:53:33.737820Z"
    }
   },
   "outputs": [],
   "source": [
    "data['predict_score'] = ysvc"
   ]
  },
  {
   "cell_type": "code",
   "execution_count": 45,
   "metadata": {
    "execution": {
     "iopub.execute_input": "2020-11-23T12:53:33.744657Z",
     "iopub.status.busy": "2020-11-23T12:53:33.744657Z",
     "iopub.status.idle": "2020-11-23T12:53:34.132705Z",
     "shell.execute_reply": "2020-11-23T12:53:34.132705Z",
     "shell.execute_reply.started": "2020-11-23T12:53:33.744657Z"
    }
   },
   "outputs": [],
   "source": [
    "# export predicted dataset for further analysis\n",
    "\n",
    "data.to_csv('hasilprediksi.csv',index=False)"
   ]
  },
  {
   "cell_type": "code",
   "execution_count": null,
   "metadata": {},
   "outputs": [],
   "source": []
  }
 ],
 "metadata": {
  "kernelspec": {
   "display_name": "Python 3",
   "language": "python",
   "name": "python3"
  },
  "language_info": {
   "codemirror_mode": {
    "name": "ipython",
    "version": 3
   },
   "file_extension": ".py",
   "mimetype": "text/x-python",
   "name": "python",
   "nbconvert_exporter": "python",
   "pygments_lexer": "ipython3",
   "version": "3.8.3"
  }
 },
 "nbformat": 4,
 "nbformat_minor": 4
}
