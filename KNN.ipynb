{
 "cells": [
  {
   "cell_type": "code",
   "execution_count": 2,
   "metadata": {
    "execution": {
     "iopub.execute_input": "2020-11-22T03:28:21.224760Z",
     "iopub.status.busy": "2020-11-22T03:28:21.224760Z",
     "iopub.status.idle": "2020-11-22T03:28:21.244703Z",
     "shell.execute_reply": "2020-11-22T03:28:21.244703Z",
     "shell.execute_reply.started": "2020-11-22T03:28:21.224760Z"
    }
   },
   "outputs": [
    {
     "name": "stderr",
     "output_type": "stream",
     "text": [
      "<ipython-input-2-abd6effed01e>:12: FutureWarning: Passing a negative integer is deprecated in version 1.0 and will not be supported in future version. Instead, use None to not limit the column width.\n",
      "  pd.set_option('display.max_colwidth', -1)\n"
     ]
    }
   ],
   "source": [
    "import pandas as pd\n",
    "import re\n",
    "import spacy\n",
    "import json\n",
    "import string\n",
    "from spacy.lang.en.stop_words import STOP_WORDS\n",
    "from sklearn.utils import resample\n",
    "from sklearn.feature_extraction.text import CountVectorizer, TfidfVectorizer\n",
    "from sklearn.neighbors import KNeighborsClassifier\n",
    "from sklearn.model_selection import train_test_split, GridSearchCV\n",
    "from sklearn.metrics import recall_score, classification_report, confusion_matrix\n",
    "pd.set_option('display.max_colwidth', -1)"
   ]
  },
  {
   "cell_type": "code",
   "execution_count": 3,
   "metadata": {
    "execution": {
     "iopub.execute_input": "2020-11-22T03:28:27.918333Z",
     "iopub.status.busy": "2020-11-22T03:28:27.918333Z",
     "iopub.status.idle": "2020-11-22T03:28:28.562312Z",
     "shell.execute_reply": "2020-11-22T03:28:28.561458Z",
     "shell.execute_reply.started": "2020-11-22T03:28:27.918333Z"
    }
   },
   "outputs": [],
   "source": [
    "data = pd.read_csv('bigram.csv')"
   ]
  },
  {
   "cell_type": "markdown",
   "metadata": {},
   "source": [
    "# Token"
   ]
  },
  {
   "cell_type": "code",
   "execution_count": 5,
   "metadata": {
    "execution": {
     "iopub.execute_input": "2020-11-22T03:29:24.537586Z",
     "iopub.status.busy": "2020-11-22T03:29:24.537586Z",
     "iopub.status.idle": "2020-11-22T03:29:25.887311Z",
     "shell.execute_reply": "2020-11-22T03:29:25.887311Z",
     "shell.execute_reply.started": "2020-11-22T03:29:24.537586Z"
    }
   },
   "outputs": [],
   "source": [
    "with open('cont_en.json') as file:\n",
    "    contEn = json.load(file)\n",
    "    \n",
    "c_re = re.compile('(%s)' % '|'.join(contEn.keys()))\n",
    "\n",
    "def expandContractions(text, c_re=c_re):         # expanding contractiion into full form word. ex: won't -> will not\n",
    "    def replace(match):\n",
    "        return contEn[match.group(0)]\n",
    "    return c_re.sub(replace, text.lower())\n",
    "\n",
    "def stars(text):\n",
    "    if '*' in text:\n",
    "        word = text.replace('*',' stars') # replacing * symbol with \"star\"\n",
    "    else:\n",
    "        word = text\n",
    "    return word\n",
    "\n",
    "def num2word(text):                        #convert number to string\n",
    "    if len(text) == 1 and text in '12345':\n",
    "        if text == '1':\n",
    "            word = 'one'\n",
    "        elif text == '2':\n",
    "            word = 'two'\n",
    "        elif text == '3':\n",
    "            word = 'three'\n",
    "        elif text == '4':\n",
    "            word = 'four'\n",
    "        elif text == '5':\n",
    "            word = 'five'\n",
    "        else:\n",
    "            word = text\n",
    "    else:\n",
    "        word = text\n",
    "    return word\n",
    "\n",
    "def lemma(word):\n",
    "    lemma_doc = nlp(\" \".join(word)) \n",
    "    lemma_text = [token.text if '_' in token.text else token.lemma_ for token in lemma_doc]\n",
    "    return lemma_text\n",
    "\n",
    "nlp = spacy.load(\"en_core_web_sm\")\n",
    "\n",
    "nlp.Defaults.stop_words -= {\"one\", \"two\",\"three\",\"four\",\"five\"} #removing those word from stop_word\n",
    "stopword = list(STOP_WORDS)\n",
    "\n",
    "stopword2 = stopword\n",
    "stopword2.extend(['good'])"
   ]
  },
  {
   "cell_type": "code",
   "execution_count": 6,
   "metadata": {
    "execution": {
     "iopub.execute_input": "2020-11-22T03:29:32.041152Z",
     "iopub.status.busy": "2020-11-22T03:29:32.041152Z",
     "iopub.status.idle": "2020-11-22T03:29:32.062096Z",
     "shell.execute_reply": "2020-11-22T03:29:32.061132Z",
     "shell.execute_reply.started": "2020-11-22T03:29:32.041152Z"
    }
   },
   "outputs": [],
   "source": [
    "def clean_text(text):\n",
    "    text = stars(text)\n",
    "    text = expandContractions(text)\n",
    "    text = re.split(r'\\W+',text)\n",
    "    text = [num2word(x) for x in text]\n",
    "    text = [x for x in text if x not in string.punctuation]\n",
    "    text = [\"have\" if x == \"ve\" else x for x in text]\n",
    "    text = [\"game\" if x == \"games\" else x for x in text]\n",
    "    text = [\"phone\" if x == \"mobile\" else x for x in text]\n",
    "    text = ' '.join(text).replace('one one','1.1').split()\n",
    "    text = [x for x in text if x not in stopword2 and len(x) > 1 and len(x) <= 45]\n",
    "    return text\n",
    "\n",
    "def tokenizer(bow):\n",
    "    text = clean_text(bow)\n",
    "    text = lemma(text) #,allowed_postags=['NOUN','VERB']\n",
    "    return text"
   ]
  },
  {
   "cell_type": "markdown",
   "metadata": {},
   "source": [
    "## Oversampling"
   ]
  },
  {
   "cell_type": "code",
   "execution_count": 7,
   "metadata": {
    "execution": {
     "iopub.execute_input": "2020-11-22T03:29:53.113340Z",
     "iopub.status.busy": "2020-11-22T03:29:53.113340Z",
     "iopub.status.idle": "2020-11-22T03:29:53.143263Z",
     "shell.execute_reply": "2020-11-22T03:29:53.142263Z",
     "shell.execute_reply.started": "2020-11-22T03:29:53.113340Z"
    }
   },
   "outputs": [],
   "source": [
    "pos = data[data.sentiment_score == \"Positive\"]\n",
    "neu = data[data.sentiment_score == \"Neutral\"]\n",
    "neg = data[data.sentiment_score == \"Negative\"]"
   ]
  },
  {
   "cell_type": "code",
   "execution_count": 8,
   "metadata": {
    "execution": {
     "iopub.execute_input": "2020-11-22T03:29:59.695733Z",
     "iopub.status.busy": "2020-11-22T03:29:59.694737Z",
     "iopub.status.idle": "2020-11-22T03:29:59.705706Z",
     "shell.execute_reply": "2020-11-22T03:29:59.705706Z",
     "shell.execute_reply.started": "2020-11-22T03:29:59.695733Z"
    }
   },
   "outputs": [],
   "source": [
    "neuOS = resample(neu, n_samples = len(pos), random_state=42)\n",
    "negOS = resample(neg, n_samples = len(pos), random_state=42)"
   ]
  },
  {
   "cell_type": "code",
   "execution_count": 9,
   "metadata": {
    "execution": {
     "iopub.execute_input": "2020-11-22T03:30:05.623280Z",
     "iopub.status.busy": "2020-11-22T03:30:05.623280Z",
     "iopub.status.idle": "2020-11-22T03:30:05.650241Z",
     "shell.execute_reply": "2020-11-22T03:30:05.650241Z",
     "shell.execute_reply.started": "2020-11-22T03:30:05.623280Z"
    }
   },
   "outputs": [],
   "source": [
    "dataOS = pd.concat([pos,neuOS,negOS],axis=0)"
   ]
  },
  {
   "cell_type": "markdown",
   "metadata": {},
   "source": [
    "## Model Selection"
   ]
  },
  {
   "cell_type": "code",
   "execution_count": 10,
   "metadata": {
    "execution": {
     "iopub.execute_input": "2020-11-22T03:30:17.865981Z",
     "iopub.status.busy": "2020-11-22T03:30:17.865981Z",
     "iopub.status.idle": "2020-11-22T03:30:17.884970Z",
     "shell.execute_reply": "2020-11-22T03:30:17.883970Z",
     "shell.execute_reply.started": "2020-11-22T03:30:17.865981Z"
    }
   },
   "outputs": [],
   "source": [
    "x = dataOS['content']\n",
    "y = dataOS['sentiment_score']"
   ]
  },
  {
   "cell_type": "code",
   "execution_count": 11,
   "metadata": {
    "execution": {
     "iopub.execute_input": "2020-11-22T03:30:23.226877Z",
     "iopub.status.busy": "2020-11-22T03:30:23.226877Z",
     "iopub.status.idle": "2020-11-22T03:30:23.242867Z",
     "shell.execute_reply": "2020-11-22T03:30:23.241869Z",
     "shell.execute_reply.started": "2020-11-22T03:30:23.226877Z"
    }
   },
   "outputs": [],
   "source": [
    "cv = TfidfVectorizer(tokenizer=tokenizer, stop_words=stopword, ngram_range=(1,3))"
   ]
  },
  {
   "cell_type": "code",
   "execution_count": 12,
   "metadata": {
    "execution": {
     "iopub.execute_input": "2020-11-22T03:30:30.270658Z",
     "iopub.status.busy": "2020-11-22T03:30:30.269661Z",
     "iopub.status.idle": "2020-11-22T03:30:30.295623Z",
     "shell.execute_reply": "2020-11-22T03:30:30.295623Z",
     "shell.execute_reply.started": "2020-11-22T03:30:30.270658Z"
    }
   },
   "outputs": [],
   "source": [
    "xtrain,xtest,ytrain,ytest = train_test_split(x,y,train_size=.7, random_state = 42, stratify = y)"
   ]
  },
  {
   "cell_type": "markdown",
   "metadata": {},
   "source": [
    "## Pipeline"
   ]
  },
  {
   "cell_type": "code",
   "execution_count": 13,
   "metadata": {
    "execution": {
     "iopub.execute_input": "2020-11-22T03:30:40.661736Z",
     "iopub.status.busy": "2020-11-22T03:30:40.660731Z",
     "iopub.status.idle": "2020-11-22T03:30:40.673696Z",
     "shell.execute_reply": "2020-11-22T03:30:40.672699Z",
     "shell.execute_reply.started": "2020-11-22T03:30:40.661736Z"
    }
   },
   "outputs": [],
   "source": [
    "from sklearn.pipeline import make_pipeline"
   ]
  },
  {
   "cell_type": "code",
   "execution_count": 15,
   "metadata": {
    "execution": {
     "iopub.execute_input": "2020-11-22T03:31:19.630551Z",
     "iopub.status.busy": "2020-11-22T03:31:19.630551Z",
     "iopub.status.idle": "2020-11-22T03:31:19.648524Z",
     "shell.execute_reply": "2020-11-22T03:31:19.647544Z",
     "shell.execute_reply.started": "2020-11-22T03:31:19.630551Z"
    }
   },
   "outputs": [],
   "source": [
    "knnpipe = make_pipeline(cv,KNeighborsClassifier())"
   ]
  },
  {
   "cell_type": "code",
   "execution_count": 16,
   "metadata": {
    "execution": {
     "iopub.execute_input": "2020-11-22T03:31:22.891906Z",
     "iopub.status.busy": "2020-11-22T03:31:22.890908Z",
     "iopub.status.idle": "2020-11-22T03:33:01.871222Z",
     "shell.execute_reply": "2020-11-22T03:33:01.871222Z",
     "shell.execute_reply.started": "2020-11-22T03:31:22.891906Z"
    }
   },
   "outputs": [
    {
     "data": {
      "text/plain": [
       "Pipeline(steps=[('tfidfvectorizer',\n",
       "                 TfidfVectorizer(ngram_range=(1, 3),\n",
       "                                 stop_words=['over', 'is', 'using', 'toward',\n",
       "                                             'themselves', 'when', 'below',\n",
       "                                             'too', 'fifty', 'upon', 'under',\n",
       "                                             'my', 'becomes', '‘ve', 'many',\n",
       "                                             'keep', 'everywhere', 'full',\n",
       "                                             'again', 'off', 'all', 'empty',\n",
       "                                             'did', 'sometimes', 'after',\n",
       "                                             'most', 'beside', 'except',\n",
       "                                             'those', 'moreover', ...],\n",
       "                                 tokenizer=<function tokenizer at 0x000001A2D6860430>)),\n",
       "                ('kneighborsclassifier', KNeighborsClassifier())])"
      ]
     },
     "execution_count": 16,
     "metadata": {},
     "output_type": "execute_result"
    }
   ],
   "source": [
    "knnpipe.fit(xtrain,ytrain)"
   ]
  },
  {
   "cell_type": "code",
   "execution_count": 17,
   "metadata": {
    "execution": {
     "iopub.execute_input": "2020-11-22T03:33:01.872219Z",
     "iopub.status.busy": "2020-11-22T03:33:01.872219Z",
     "iopub.status.idle": "2020-11-22T03:33:46.837359Z",
     "shell.execute_reply": "2020-11-22T03:33:46.837359Z",
     "shell.execute_reply.started": "2020-11-22T03:33:01.872219Z"
    }
   },
   "outputs": [],
   "source": [
    "ypred = knnpipe.predict(xtest)"
   ]
  },
  {
   "cell_type": "code",
   "execution_count": 18,
   "metadata": {
    "execution": {
     "iopub.execute_input": "2020-11-22T03:33:46.838346Z",
     "iopub.status.busy": "2020-11-22T03:33:46.838346Z",
     "iopub.status.idle": "2020-11-22T03:33:46.950009Z",
     "shell.execute_reply": "2020-11-22T03:33:46.949011Z",
     "shell.execute_reply.started": "2020-11-22T03:33:46.838346Z"
    }
   },
   "outputs": [
    {
     "name": "stdout",
     "output_type": "stream",
     "text": [
      "              precision    recall  f1-score   support\n",
      "\n",
      "    Negative       0.60      0.65      0.63      2146\n",
      "     Neutral       0.57      0.66      0.61      2147\n",
      "    Positive       0.71      0.54      0.61      2147\n",
      "\n",
      "    accuracy                           0.62      6440\n",
      "   macro avg       0.63      0.62      0.62      6440\n",
      "weighted avg       0.63      0.62      0.62      6440\n",
      "\n"
     ]
    }
   ],
   "source": [
    "print(classification_report(ytest,ypred))"
   ]
  },
  {
   "cell_type": "code",
   "execution_count": 19,
   "metadata": {
    "execution": {
     "iopub.execute_input": "2020-11-22T03:33:46.951006Z",
     "iopub.status.busy": "2020-11-22T03:33:46.950009Z",
     "iopub.status.idle": "2020-11-22T03:33:46.965967Z",
     "shell.execute_reply": "2020-11-22T03:33:46.964969Z",
     "shell.execute_reply.started": "2020-11-22T03:33:46.951006Z"
    }
   },
   "outputs": [],
   "source": [
    "lab = ['Positive','Negative','Neutral']"
   ]
  },
  {
   "cell_type": "code",
   "execution_count": 20,
   "metadata": {
    "execution": {
     "iopub.execute_input": "2020-11-22T03:33:46.966964Z",
     "iopub.status.busy": "2020-11-22T03:33:46.965967Z",
     "iopub.status.idle": "2020-11-22T03:33:46.995889Z",
     "shell.execute_reply": "2020-11-22T03:33:46.995889Z",
     "shell.execute_reply.started": "2020-11-22T03:33:46.966964Z"
    }
   },
   "outputs": [
    {
     "data": {
      "text/html": [
       "<div>\n",
       "<style scoped>\n",
       "    .dataframe tbody tr th:only-of-type {\n",
       "        vertical-align: middle;\n",
       "    }\n",
       "\n",
       "    .dataframe tbody tr th {\n",
       "        vertical-align: top;\n",
       "    }\n",
       "\n",
       "    .dataframe thead th {\n",
       "        text-align: right;\n",
       "    }\n",
       "</style>\n",
       "<table border=\"1\" class=\"dataframe\">\n",
       "  <thead>\n",
       "    <tr style=\"text-align: right;\">\n",
       "      <th></th>\n",
       "      <th>Positive</th>\n",
       "      <th>Negative</th>\n",
       "      <th>Neutral</th>\n",
       "    </tr>\n",
       "  </thead>\n",
       "  <tbody>\n",
       "    <tr>\n",
       "      <th>Positive</th>\n",
       "      <td>1155</td>\n",
       "      <td>414</td>\n",
       "      <td>578</td>\n",
       "    </tr>\n",
       "    <tr>\n",
       "      <th>Negative</th>\n",
       "      <td>245</td>\n",
       "      <td>1401</td>\n",
       "      <td>500</td>\n",
       "    </tr>\n",
       "    <tr>\n",
       "      <th>Neutral</th>\n",
       "      <td>237</td>\n",
       "      <td>501</td>\n",
       "      <td>1409</td>\n",
       "    </tr>\n",
       "  </tbody>\n",
       "</table>\n",
       "</div>"
      ],
      "text/plain": [
       "          Positive  Negative  Neutral\n",
       "Positive  1155      414       578    \n",
       "Negative  245       1401      500    \n",
       "Neutral   237       501       1409   "
      ]
     },
     "execution_count": 20,
     "metadata": {},
     "output_type": "execute_result"
    }
   ],
   "source": [
    "cm = confusion_matrix(ytest,ypred,labels=lab)\n",
    "pd.DataFrame(cm, columns=lab,index=lab)"
   ]
  },
  {
   "cell_type": "code",
   "execution_count": 38,
   "metadata": {
    "execution": {
     "iopub.execute_input": "2020-11-22T03:37:35.268066Z",
     "iopub.status.busy": "2020-11-22T03:37:35.268066Z",
     "iopub.status.idle": "2020-11-22T03:37:35.310492Z",
     "shell.execute_reply": "2020-11-22T03:37:35.310492Z",
     "shell.execute_reply.started": "2020-11-22T03:37:35.268066Z"
    }
   },
   "outputs": [
    {
     "data": {
      "text/plain": [
       "array(['Negative'], dtype=object)"
      ]
     },
     "execution_count": 38,
     "metadata": {},
     "output_type": "execute_result"
    }
   ],
   "source": [
    "text = ['This is an okay game. Not bad at all']\n",
    "knnpipe.predict(text)"
   ]
  },
  {
   "cell_type": "code",
   "execution_count": 39,
   "metadata": {
    "execution": {
     "iopub.execute_input": "2020-11-22T03:37:35.683757Z",
     "iopub.status.busy": "2020-11-22T03:37:35.683757Z",
     "iopub.status.idle": "2020-11-22T03:37:35.731598Z",
     "shell.execute_reply": "2020-11-22T03:37:35.730600Z",
     "shell.execute_reply.started": "2020-11-22T03:37:35.683757Z"
    }
   },
   "outputs": [
    {
     "data": {
      "text/plain": [
       "array([[0.8, 0.2, 0. ]])"
      ]
     },
     "execution_count": 39,
     "metadata": {},
     "output_type": "execute_result"
    }
   ],
   "source": [
    "knnpipe.predict_proba(text)"
   ]
  },
  {
   "cell_type": "markdown",
   "metadata": {},
   "source": [
    "## Hyper Parameter Tuning"
   ]
  },
  {
   "cell_type": "code",
   "execution_count": 42,
   "metadata": {
    "execution": {
     "iopub.execute_input": "2020-11-22T03:42:24.605287Z",
     "iopub.status.busy": "2020-11-22T03:42:24.605287Z",
     "iopub.status.idle": "2020-11-22T03:42:24.612270Z",
     "shell.execute_reply": "2020-11-22T03:42:24.612270Z",
     "shell.execute_reply.started": "2020-11-22T03:42:24.605287Z"
    }
   },
   "outputs": [],
   "source": [
    "# knnpipe.get_params()"
   ]
  },
  {
   "cell_type": "code",
   "execution_count": 41,
   "metadata": {
    "execution": {
     "iopub.execute_input": "2020-11-22T03:42:16.872070Z",
     "iopub.status.busy": "2020-11-22T03:42:16.871037Z",
     "iopub.status.idle": "2020-11-22T03:42:16.878054Z",
     "shell.execute_reply": "2020-11-22T03:42:16.878054Z",
     "shell.execute_reply.started": "2020-11-22T03:42:16.872070Z"
    }
   },
   "outputs": [],
   "source": [
    "kneighborsclassifier__leaf_size = [30, 20, 10]\n",
    "kneighborsclassifier__n_neighbors = [5, 10, 15]\n",
    "kneighborsclassifier__p = [1,2]\n",
    "kneighborsclassifier__weights= ['uniform', 'distance']"
   ]
  },
  {
   "cell_type": "code",
   "execution_count": 43,
   "metadata": {
    "execution": {
     "iopub.execute_input": "2020-11-22T03:44:58.131746Z",
     "iopub.status.busy": "2020-11-22T03:44:58.131746Z",
     "iopub.status.idle": "2020-11-22T06:32:11.294856Z",
     "shell.execute_reply": "2020-11-22T06:32:11.292855Z",
     "shell.execute_reply.started": "2020-11-22T03:44:58.131746Z"
    }
   },
   "outputs": [
    {
     "name": "stdout",
     "output_type": "stream",
     "text": [
      "Now running leaf_size 30, n_num 5, p 1, weight uniform\n",
      "Fitting 4 folds for each of 1 candidates, totalling 4 fits\n"
     ]
    },
    {
     "name": "stderr",
     "output_type": "stream",
     "text": [
      "[Parallel(n_jobs=-1)]: Using backend LokyBackend with 12 concurrent workers.\n",
      "[Parallel(n_jobs=-1)]: Done   4 out of   4 | elapsed:  2.5min finished\n"
     ]
    },
    {
     "name": "stdout",
     "output_type": "stream",
     "text": [
      "================\n",
      "Now running leaf_size 30, n_num 5, p 1, weight distance\n",
      "Fitting 4 folds for each of 1 candidates, totalling 4 fits\n"
     ]
    },
    {
     "name": "stderr",
     "output_type": "stream",
     "text": [
      "[Parallel(n_jobs=-1)]: Using backend LokyBackend with 12 concurrent workers.\n",
      "[Parallel(n_jobs=-1)]: Done   4 out of   4 | elapsed:  2.4min finished\n"
     ]
    },
    {
     "name": "stdout",
     "output_type": "stream",
     "text": [
      "================\n",
      "Now running leaf_size 30, n_num 5, p 2, weight uniform\n",
      "Fitting 4 folds for each of 1 candidates, totalling 4 fits\n"
     ]
    },
    {
     "name": "stderr",
     "output_type": "stream",
     "text": [
      "[Parallel(n_jobs=-1)]: Using backend LokyBackend with 12 concurrent workers.\n",
      "[Parallel(n_jobs=-1)]: Done   4 out of   4 | elapsed:  2.3min finished\n"
     ]
    },
    {
     "name": "stdout",
     "output_type": "stream",
     "text": [
      "================\n",
      "Now running leaf_size 30, n_num 5, p 2, weight distance\n",
      "Fitting 4 folds for each of 1 candidates, totalling 4 fits\n"
     ]
    },
    {
     "name": "stderr",
     "output_type": "stream",
     "text": [
      "[Parallel(n_jobs=-1)]: Using backend LokyBackend with 12 concurrent workers.\n",
      "[Parallel(n_jobs=-1)]: Done   4 out of   4 | elapsed:  2.4min finished\n"
     ]
    },
    {
     "name": "stdout",
     "output_type": "stream",
     "text": [
      "================\n",
      "Now running leaf_size 30, n_num 10, p 1, weight uniform\n",
      "Fitting 4 folds for each of 1 candidates, totalling 4 fits\n"
     ]
    },
    {
     "name": "stderr",
     "output_type": "stream",
     "text": [
      "[Parallel(n_jobs=-1)]: Using backend LokyBackend with 12 concurrent workers.\n",
      "[Parallel(n_jobs=-1)]: Done   4 out of   4 | elapsed:  2.5min finished\n"
     ]
    },
    {
     "name": "stdout",
     "output_type": "stream",
     "text": [
      "================\n",
      "Now running leaf_size 30, n_num 10, p 1, weight distance\n",
      "Fitting 4 folds for each of 1 candidates, totalling 4 fits\n"
     ]
    },
    {
     "name": "stderr",
     "output_type": "stream",
     "text": [
      "[Parallel(n_jobs=-1)]: Using backend LokyBackend with 12 concurrent workers.\n",
      "[Parallel(n_jobs=-1)]: Done   4 out of   4 | elapsed:  2.4min finished\n"
     ]
    },
    {
     "name": "stdout",
     "output_type": "stream",
     "text": [
      "================\n",
      "Now running leaf_size 30, n_num 10, p 2, weight uniform\n",
      "Fitting 4 folds for each of 1 candidates, totalling 4 fits\n"
     ]
    },
    {
     "name": "stderr",
     "output_type": "stream",
     "text": [
      "[Parallel(n_jobs=-1)]: Using backend LokyBackend with 12 concurrent workers.\n",
      "[Parallel(n_jobs=-1)]: Done   4 out of   4 | elapsed:  2.2min finished\n"
     ]
    },
    {
     "name": "stdout",
     "output_type": "stream",
     "text": [
      "================\n",
      "Now running leaf_size 30, n_num 10, p 2, weight distance\n",
      "Fitting 4 folds for each of 1 candidates, totalling 4 fits\n"
     ]
    },
    {
     "name": "stderr",
     "output_type": "stream",
     "text": [
      "[Parallel(n_jobs=-1)]: Using backend LokyBackend with 12 concurrent workers.\n",
      "[Parallel(n_jobs=-1)]: Done   4 out of   4 | elapsed:  2.3min finished\n"
     ]
    },
    {
     "name": "stdout",
     "output_type": "stream",
     "text": [
      "================\n",
      "Now running leaf_size 30, n_num 15, p 1, weight uniform\n",
      "Fitting 4 folds for each of 1 candidates, totalling 4 fits\n"
     ]
    },
    {
     "name": "stderr",
     "output_type": "stream",
     "text": [
      "[Parallel(n_jobs=-1)]: Using backend LokyBackend with 12 concurrent workers.\n",
      "[Parallel(n_jobs=-1)]: Done   4 out of   4 | elapsed:  2.4min finished\n"
     ]
    },
    {
     "name": "stdout",
     "output_type": "stream",
     "text": [
      "================\n",
      "Now running leaf_size 30, n_num 15, p 1, weight distance\n",
      "Fitting 4 folds for each of 1 candidates, totalling 4 fits\n"
     ]
    },
    {
     "name": "stderr",
     "output_type": "stream",
     "text": [
      "[Parallel(n_jobs=-1)]: Using backend LokyBackend with 12 concurrent workers.\n",
      "[Parallel(n_jobs=-1)]: Done   4 out of   4 | elapsed:  2.4min finished\n"
     ]
    },
    {
     "name": "stdout",
     "output_type": "stream",
     "text": [
      "================\n",
      "Now running leaf_size 30, n_num 15, p 2, weight uniform\n",
      "Fitting 4 folds for each of 1 candidates, totalling 4 fits\n"
     ]
    },
    {
     "name": "stderr",
     "output_type": "stream",
     "text": [
      "[Parallel(n_jobs=-1)]: Using backend LokyBackend with 12 concurrent workers.\n",
      "[Parallel(n_jobs=-1)]: Done   4 out of   4 | elapsed:  2.2min finished\n"
     ]
    },
    {
     "name": "stdout",
     "output_type": "stream",
     "text": [
      "================\n",
      "Now running leaf_size 30, n_num 15, p 2, weight distance\n",
      "Fitting 4 folds for each of 1 candidates, totalling 4 fits\n"
     ]
    },
    {
     "name": "stderr",
     "output_type": "stream",
     "text": [
      "[Parallel(n_jobs=-1)]: Using backend LokyBackend with 12 concurrent workers.\n",
      "[Parallel(n_jobs=-1)]: Done   4 out of   4 | elapsed:  2.2min finished\n"
     ]
    },
    {
     "name": "stdout",
     "output_type": "stream",
     "text": [
      "================\n",
      "Now running leaf_size 20, n_num 5, p 1, weight uniform\n",
      "Fitting 4 folds for each of 1 candidates, totalling 4 fits\n"
     ]
    },
    {
     "name": "stderr",
     "output_type": "stream",
     "text": [
      "[Parallel(n_jobs=-1)]: Using backend LokyBackend with 12 concurrent workers.\n",
      "[Parallel(n_jobs=-1)]: Done   4 out of   4 | elapsed:  2.3min finished\n"
     ]
    },
    {
     "name": "stdout",
     "output_type": "stream",
     "text": [
      "================\n",
      "Now running leaf_size 20, n_num 5, p 1, weight distance\n",
      "Fitting 4 folds for each of 1 candidates, totalling 4 fits\n"
     ]
    },
    {
     "name": "stderr",
     "output_type": "stream",
     "text": [
      "[Parallel(n_jobs=-1)]: Using backend LokyBackend with 12 concurrent workers.\n",
      "[Parallel(n_jobs=-1)]: Done   4 out of   4 | elapsed:  2.5min finished\n"
     ]
    },
    {
     "name": "stdout",
     "output_type": "stream",
     "text": [
      "================\n",
      "Now running leaf_size 20, n_num 5, p 2, weight uniform\n",
      "Fitting 4 folds for each of 1 candidates, totalling 4 fits\n"
     ]
    },
    {
     "name": "stderr",
     "output_type": "stream",
     "text": [
      "[Parallel(n_jobs=-1)]: Using backend LokyBackend with 12 concurrent workers.\n",
      "[Parallel(n_jobs=-1)]: Done   4 out of   4 | elapsed:  2.3min finished\n"
     ]
    },
    {
     "name": "stdout",
     "output_type": "stream",
     "text": [
      "================\n",
      "Now running leaf_size 20, n_num 5, p 2, weight distance\n",
      "Fitting 4 folds for each of 1 candidates, totalling 4 fits\n"
     ]
    },
    {
     "name": "stderr",
     "output_type": "stream",
     "text": [
      "[Parallel(n_jobs=-1)]: Using backend LokyBackend with 12 concurrent workers.\n",
      "[Parallel(n_jobs=-1)]: Done   4 out of   4 | elapsed:  2.3min finished\n"
     ]
    },
    {
     "name": "stdout",
     "output_type": "stream",
     "text": [
      "================\n",
      "Now running leaf_size 20, n_num 10, p 1, weight uniform\n",
      "Fitting 4 folds for each of 1 candidates, totalling 4 fits\n"
     ]
    },
    {
     "name": "stderr",
     "output_type": "stream",
     "text": [
      "[Parallel(n_jobs=-1)]: Using backend LokyBackend with 12 concurrent workers.\n",
      "[Parallel(n_jobs=-1)]: Done   4 out of   4 | elapsed:  2.5min finished\n"
     ]
    },
    {
     "name": "stdout",
     "output_type": "stream",
     "text": [
      "================\n",
      "Now running leaf_size 20, n_num 10, p 1, weight distance\n",
      "Fitting 4 folds for each of 1 candidates, totalling 4 fits\n"
     ]
    },
    {
     "name": "stderr",
     "output_type": "stream",
     "text": [
      "[Parallel(n_jobs=-1)]: Using backend LokyBackend with 12 concurrent workers.\n",
      "[Parallel(n_jobs=-1)]: Done   4 out of   4 | elapsed:  2.5min finished\n"
     ]
    },
    {
     "name": "stdout",
     "output_type": "stream",
     "text": [
      "================\n",
      "Now running leaf_size 20, n_num 10, p 2, weight uniform\n",
      "Fitting 4 folds for each of 1 candidates, totalling 4 fits\n"
     ]
    },
    {
     "name": "stderr",
     "output_type": "stream",
     "text": [
      "[Parallel(n_jobs=-1)]: Using backend LokyBackend with 12 concurrent workers.\n",
      "[Parallel(n_jobs=-1)]: Done   4 out of   4 | elapsed:  2.3min finished\n"
     ]
    },
    {
     "name": "stdout",
     "output_type": "stream",
     "text": [
      "================\n",
      "Now running leaf_size 20, n_num 10, p 2, weight distance\n",
      "Fitting 4 folds for each of 1 candidates, totalling 4 fits\n"
     ]
    },
    {
     "name": "stderr",
     "output_type": "stream",
     "text": [
      "[Parallel(n_jobs=-1)]: Using backend LokyBackend with 12 concurrent workers.\n",
      "[Parallel(n_jobs=-1)]: Done   4 out of   4 | elapsed:  2.3min finished\n"
     ]
    },
    {
     "name": "stdout",
     "output_type": "stream",
     "text": [
      "================\n",
      "Now running leaf_size 20, n_num 15, p 1, weight uniform\n",
      "Fitting 4 folds for each of 1 candidates, totalling 4 fits\n"
     ]
    },
    {
     "name": "stderr",
     "output_type": "stream",
     "text": [
      "[Parallel(n_jobs=-1)]: Using backend LokyBackend with 12 concurrent workers.\n",
      "[Parallel(n_jobs=-1)]: Done   4 out of   4 | elapsed:  2.5min finished\n"
     ]
    },
    {
     "name": "stdout",
     "output_type": "stream",
     "text": [
      "================\n",
      "Now running leaf_size 20, n_num 15, p 1, weight distance\n",
      "Fitting 4 folds for each of 1 candidates, totalling 4 fits\n"
     ]
    },
    {
     "name": "stderr",
     "output_type": "stream",
     "text": [
      "[Parallel(n_jobs=-1)]: Using backend LokyBackend with 12 concurrent workers.\n",
      "[Parallel(n_jobs=-1)]: Done   4 out of   4 | elapsed:  2.5min finished\n"
     ]
    },
    {
     "name": "stdout",
     "output_type": "stream",
     "text": [
      "================\n",
      "Now running leaf_size 20, n_num 15, p 2, weight uniform\n",
      "Fitting 4 folds for each of 1 candidates, totalling 4 fits\n"
     ]
    },
    {
     "name": "stderr",
     "output_type": "stream",
     "text": [
      "[Parallel(n_jobs=-1)]: Using backend LokyBackend with 12 concurrent workers.\n",
      "[Parallel(n_jobs=-1)]: Done   4 out of   4 | elapsed:  2.3min finished\n"
     ]
    },
    {
     "name": "stdout",
     "output_type": "stream",
     "text": [
      "================\n",
      "Now running leaf_size 20, n_num 15, p 2, weight distance\n",
      "Fitting 4 folds for each of 1 candidates, totalling 4 fits\n"
     ]
    },
    {
     "name": "stderr",
     "output_type": "stream",
     "text": [
      "[Parallel(n_jobs=-1)]: Using backend LokyBackend with 12 concurrent workers.\n",
      "[Parallel(n_jobs=-1)]: Done   4 out of   4 | elapsed:  2.3min finished\n"
     ]
    },
    {
     "name": "stdout",
     "output_type": "stream",
     "text": [
      "================\n",
      "Now running leaf_size 10, n_num 5, p 1, weight uniform\n",
      "Fitting 4 folds for each of 1 candidates, totalling 4 fits\n"
     ]
    },
    {
     "name": "stderr",
     "output_type": "stream",
     "text": [
      "[Parallel(n_jobs=-1)]: Using backend LokyBackend with 12 concurrent workers.\n",
      "[Parallel(n_jobs=-1)]: Done   4 out of   4 | elapsed:  2.5min finished\n"
     ]
    },
    {
     "name": "stdout",
     "output_type": "stream",
     "text": [
      "================\n",
      "Now running leaf_size 10, n_num 5, p 1, weight distance\n",
      "Fitting 4 folds for each of 1 candidates, totalling 4 fits\n"
     ]
    },
    {
     "name": "stderr",
     "output_type": "stream",
     "text": [
      "[Parallel(n_jobs=-1)]: Using backend LokyBackend with 12 concurrent workers.\n",
      "[Parallel(n_jobs=-1)]: Done   4 out of   4 | elapsed:  2.5min finished\n"
     ]
    },
    {
     "name": "stdout",
     "output_type": "stream",
     "text": [
      "================\n",
      "Now running leaf_size 10, n_num 5, p 2, weight uniform\n",
      "Fitting 4 folds for each of 1 candidates, totalling 4 fits\n"
     ]
    },
    {
     "name": "stderr",
     "output_type": "stream",
     "text": [
      "[Parallel(n_jobs=-1)]: Using backend LokyBackend with 12 concurrent workers.\n",
      "[Parallel(n_jobs=-1)]: Done   4 out of   4 | elapsed:  2.3min finished\n"
     ]
    },
    {
     "name": "stdout",
     "output_type": "stream",
     "text": [
      "================\n",
      "Now running leaf_size 10, n_num 5, p 2, weight distance\n",
      "Fitting 4 folds for each of 1 candidates, totalling 4 fits\n"
     ]
    },
    {
     "name": "stderr",
     "output_type": "stream",
     "text": [
      "[Parallel(n_jobs=-1)]: Using backend LokyBackend with 12 concurrent workers.\n",
      "[Parallel(n_jobs=-1)]: Done   4 out of   4 | elapsed:  2.4min finished\n"
     ]
    },
    {
     "name": "stdout",
     "output_type": "stream",
     "text": [
      "================\n",
      "Now running leaf_size 10, n_num 10, p 1, weight uniform\n",
      "Fitting 4 folds for each of 1 candidates, totalling 4 fits\n"
     ]
    },
    {
     "name": "stderr",
     "output_type": "stream",
     "text": [
      "[Parallel(n_jobs=-1)]: Using backend LokyBackend with 12 concurrent workers.\n",
      "[Parallel(n_jobs=-1)]: Done   4 out of   4 | elapsed:  2.5min finished\n"
     ]
    },
    {
     "name": "stdout",
     "output_type": "stream",
     "text": [
      "================\n",
      "Now running leaf_size 10, n_num 10, p 1, weight distance\n",
      "Fitting 4 folds for each of 1 candidates, totalling 4 fits\n"
     ]
    },
    {
     "name": "stderr",
     "output_type": "stream",
     "text": [
      "[Parallel(n_jobs=-1)]: Using backend LokyBackend with 12 concurrent workers.\n",
      "[Parallel(n_jobs=-1)]: Done   4 out of   4 | elapsed:  2.5min finished\n"
     ]
    },
    {
     "name": "stdout",
     "output_type": "stream",
     "text": [
      "================\n",
      "Now running leaf_size 10, n_num 10, p 2, weight uniform\n",
      "Fitting 4 folds for each of 1 candidates, totalling 4 fits\n"
     ]
    },
    {
     "name": "stderr",
     "output_type": "stream",
     "text": [
      "[Parallel(n_jobs=-1)]: Using backend LokyBackend with 12 concurrent workers.\n",
      "[Parallel(n_jobs=-1)]: Done   4 out of   4 | elapsed:  2.3min finished\n"
     ]
    },
    {
     "name": "stdout",
     "output_type": "stream",
     "text": [
      "================\n",
      "Now running leaf_size 10, n_num 10, p 2, weight distance\n",
      "Fitting 4 folds for each of 1 candidates, totalling 4 fits\n"
     ]
    },
    {
     "name": "stderr",
     "output_type": "stream",
     "text": [
      "[Parallel(n_jobs=-1)]: Using backend LokyBackend with 12 concurrent workers.\n",
      "[Parallel(n_jobs=-1)]: Done   4 out of   4 | elapsed:  2.3min finished\n"
     ]
    },
    {
     "name": "stdout",
     "output_type": "stream",
     "text": [
      "================\n",
      "Now running leaf_size 10, n_num 15, p 1, weight uniform\n",
      "Fitting 4 folds for each of 1 candidates, totalling 4 fits\n"
     ]
    },
    {
     "name": "stderr",
     "output_type": "stream",
     "text": [
      "[Parallel(n_jobs=-1)]: Using backend LokyBackend with 12 concurrent workers.\n",
      "[Parallel(n_jobs=-1)]: Done   4 out of   4 | elapsed:  2.5min finished\n"
     ]
    },
    {
     "name": "stdout",
     "output_type": "stream",
     "text": [
      "================\n",
      "Now running leaf_size 10, n_num 15, p 1, weight distance\n",
      "Fitting 4 folds for each of 1 candidates, totalling 4 fits\n"
     ]
    },
    {
     "name": "stderr",
     "output_type": "stream",
     "text": [
      "[Parallel(n_jobs=-1)]: Using backend LokyBackend with 12 concurrent workers.\n",
      "[Parallel(n_jobs=-1)]: Done   4 out of   4 | elapsed:  2.5min finished\n"
     ]
    },
    {
     "name": "stdout",
     "output_type": "stream",
     "text": [
      "================\n",
      "Now running leaf_size 10, n_num 15, p 2, weight uniform\n",
      "Fitting 4 folds for each of 1 candidates, totalling 4 fits\n"
     ]
    },
    {
     "name": "stderr",
     "output_type": "stream",
     "text": [
      "[Parallel(n_jobs=-1)]: Using backend LokyBackend with 12 concurrent workers.\n",
      "[Parallel(n_jobs=-1)]: Done   4 out of   4 | elapsed:  2.3min finished\n"
     ]
    },
    {
     "name": "stdout",
     "output_type": "stream",
     "text": [
      "================\n",
      "Now running leaf_size 10, n_num 15, p 2, weight distance\n",
      "Fitting 4 folds for each of 1 candidates, totalling 4 fits\n"
     ]
    },
    {
     "name": "stderr",
     "output_type": "stream",
     "text": [
      "[Parallel(n_jobs=-1)]: Using backend LokyBackend with 12 concurrent workers.\n",
      "[Parallel(n_jobs=-1)]: Done   4 out of   4 | elapsed:  2.3min finished\n"
     ]
    },
    {
     "name": "stdout",
     "output_type": "stream",
     "text": [
      "================\n"
     ]
    }
   ],
   "source": [
    "score = []\n",
    "for leaf in kneighborsclassifier__leaf_size:\n",
    "    for n in kneighborsclassifier__n_neighbors:\n",
    "        for p in kneighborsclassifier__p:\n",
    "            for weight in kneighborsclassifier__weights:\n",
    "                print(f'Now running leaf_size {leaf}, n_num {n}, p {p}, weight {weight}')\n",
    "                params = {\n",
    "                            'kneighborsclassifier__leaf_size': [leaf],\n",
    "                            'kneighborsclassifier__n_neighbors': [n],\n",
    "                            'kneighborsclassifier__p': [p],\n",
    "                            'kneighborsclassifier__weights' : [weight]\n",
    "                        }\n",
    "                gridKNN = GridSearchCV(estimator=knnpipe, param_grid=params, cv=4, verbose=1, n_jobs=-1)\n",
    "                gridKNN.fit(xtrain,ytrain)\n",
    "                ygrid = gridKNN.predict(xtest)\n",
    "                recall = recall_score(ytest,ygrid,average='macro')\n",
    "                score.append([leaf,n,p,weight,recall])\n",
    "                print('================')"
   ]
  },
  {
   "cell_type": "code",
   "execution_count": 45,
   "metadata": {
    "execution": {
     "iopub.execute_input": "2020-11-22T06:54:11.828611Z",
     "iopub.status.busy": "2020-11-22T06:54:11.827648Z",
     "iopub.status.idle": "2020-11-22T06:54:11.873719Z",
     "shell.execute_reply": "2020-11-22T06:54:11.872721Z",
     "shell.execute_reply.started": "2020-11-22T06:54:11.828611Z"
    }
   },
   "outputs": [
    {
     "data": {
      "text/html": [
       "<div>\n",
       "<style scoped>\n",
       "    .dataframe tbody tr th:only-of-type {\n",
       "        vertical-align: middle;\n",
       "    }\n",
       "\n",
       "    .dataframe tbody tr th {\n",
       "        vertical-align: top;\n",
       "    }\n",
       "\n",
       "    .dataframe thead th {\n",
       "        text-align: right;\n",
       "    }\n",
       "</style>\n",
       "<table border=\"1\" class=\"dataframe\">\n",
       "  <thead>\n",
       "    <tr style=\"text-align: right;\">\n",
       "      <th></th>\n",
       "      <th>leaf</th>\n",
       "      <th>n</th>\n",
       "      <th>p</th>\n",
       "      <th>weight</th>\n",
       "      <th>recall</th>\n",
       "    </tr>\n",
       "  </thead>\n",
       "  <tbody>\n",
       "    <tr>\n",
       "      <th>0</th>\n",
       "      <td>30</td>\n",
       "      <td>5</td>\n",
       "      <td>1</td>\n",
       "      <td>uniform</td>\n",
       "      <td>0.520468</td>\n",
       "    </tr>\n",
       "    <tr>\n",
       "      <th>1</th>\n",
       "      <td>30</td>\n",
       "      <td>5</td>\n",
       "      <td>1</td>\n",
       "      <td>distance</td>\n",
       "      <td>0.790048</td>\n",
       "    </tr>\n",
       "    <tr>\n",
       "      <th>2</th>\n",
       "      <td>30</td>\n",
       "      <td>5</td>\n",
       "      <td>2</td>\n",
       "      <td>uniform</td>\n",
       "      <td>0.615689</td>\n",
       "    </tr>\n",
       "    <tr>\n",
       "      <th>3</th>\n",
       "      <td>30</td>\n",
       "      <td>5</td>\n",
       "      <td>2</td>\n",
       "      <td>distance</td>\n",
       "      <td>0.755130</td>\n",
       "    </tr>\n",
       "    <tr>\n",
       "      <th>4</th>\n",
       "      <td>30</td>\n",
       "      <td>10</td>\n",
       "      <td>1</td>\n",
       "      <td>uniform</td>\n",
       "      <td>0.482105</td>\n",
       "    </tr>\n",
       "    <tr>\n",
       "      <th>5</th>\n",
       "      <td>30</td>\n",
       "      <td>10</td>\n",
       "      <td>1</td>\n",
       "      <td>distance</td>\n",
       "      <td>0.793617</td>\n",
       "    </tr>\n",
       "    <tr>\n",
       "      <th>6</th>\n",
       "      <td>30</td>\n",
       "      <td>10</td>\n",
       "      <td>2</td>\n",
       "      <td>uniform</td>\n",
       "      <td>0.583702</td>\n",
       "    </tr>\n",
       "    <tr>\n",
       "      <th>7</th>\n",
       "      <td>30</td>\n",
       "      <td>10</td>\n",
       "      <td>2</td>\n",
       "      <td>distance</td>\n",
       "      <td>0.768951</td>\n",
       "    </tr>\n",
       "    <tr>\n",
       "      <th>8</th>\n",
       "      <td>30</td>\n",
       "      <td>15</td>\n",
       "      <td>1</td>\n",
       "      <td>uniform</td>\n",
       "      <td>0.480556</td>\n",
       "    </tr>\n",
       "    <tr>\n",
       "      <th>9</th>\n",
       "      <td>30</td>\n",
       "      <td>15</td>\n",
       "      <td>1</td>\n",
       "      <td>distance</td>\n",
       "      <td>0.779488</td>\n",
       "    </tr>\n",
       "    <tr>\n",
       "      <th>10</th>\n",
       "      <td>30</td>\n",
       "      <td>15</td>\n",
       "      <td>2</td>\n",
       "      <td>uniform</td>\n",
       "      <td>0.574382</td>\n",
       "    </tr>\n",
       "    <tr>\n",
       "      <th>11</th>\n",
       "      <td>30</td>\n",
       "      <td>15</td>\n",
       "      <td>2</td>\n",
       "      <td>distance</td>\n",
       "      <td>0.772677</td>\n",
       "    </tr>\n",
       "    <tr>\n",
       "      <th>12</th>\n",
       "      <td>20</td>\n",
       "      <td>5</td>\n",
       "      <td>1</td>\n",
       "      <td>uniform</td>\n",
       "      <td>0.520468</td>\n",
       "    </tr>\n",
       "    <tr>\n",
       "      <th>13</th>\n",
       "      <td>20</td>\n",
       "      <td>5</td>\n",
       "      <td>1</td>\n",
       "      <td>distance</td>\n",
       "      <td>0.790048</td>\n",
       "    </tr>\n",
       "    <tr>\n",
       "      <th>14</th>\n",
       "      <td>20</td>\n",
       "      <td>5</td>\n",
       "      <td>2</td>\n",
       "      <td>uniform</td>\n",
       "      <td>0.615689</td>\n",
       "    </tr>\n",
       "    <tr>\n",
       "      <th>15</th>\n",
       "      <td>20</td>\n",
       "      <td>5</td>\n",
       "      <td>2</td>\n",
       "      <td>distance</td>\n",
       "      <td>0.755130</td>\n",
       "    </tr>\n",
       "    <tr>\n",
       "      <th>16</th>\n",
       "      <td>20</td>\n",
       "      <td>10</td>\n",
       "      <td>1</td>\n",
       "      <td>uniform</td>\n",
       "      <td>0.482105</td>\n",
       "    </tr>\n",
       "    <tr>\n",
       "      <th>17</th>\n",
       "      <td>20</td>\n",
       "      <td>10</td>\n",
       "      <td>1</td>\n",
       "      <td>distance</td>\n",
       "      <td>0.793617</td>\n",
       "    </tr>\n",
       "    <tr>\n",
       "      <th>18</th>\n",
       "      <td>20</td>\n",
       "      <td>10</td>\n",
       "      <td>2</td>\n",
       "      <td>uniform</td>\n",
       "      <td>0.583702</td>\n",
       "    </tr>\n",
       "    <tr>\n",
       "      <th>19</th>\n",
       "      <td>20</td>\n",
       "      <td>10</td>\n",
       "      <td>2</td>\n",
       "      <td>distance</td>\n",
       "      <td>0.768951</td>\n",
       "    </tr>\n",
       "    <tr>\n",
       "      <th>20</th>\n",
       "      <td>20</td>\n",
       "      <td>15</td>\n",
       "      <td>1</td>\n",
       "      <td>uniform</td>\n",
       "      <td>0.480556</td>\n",
       "    </tr>\n",
       "    <tr>\n",
       "      <th>21</th>\n",
       "      <td>20</td>\n",
       "      <td>15</td>\n",
       "      <td>1</td>\n",
       "      <td>distance</td>\n",
       "      <td>0.779488</td>\n",
       "    </tr>\n",
       "    <tr>\n",
       "      <th>22</th>\n",
       "      <td>20</td>\n",
       "      <td>15</td>\n",
       "      <td>2</td>\n",
       "      <td>uniform</td>\n",
       "      <td>0.574382</td>\n",
       "    </tr>\n",
       "    <tr>\n",
       "      <th>23</th>\n",
       "      <td>20</td>\n",
       "      <td>15</td>\n",
       "      <td>2</td>\n",
       "      <td>distance</td>\n",
       "      <td>0.772677</td>\n",
       "    </tr>\n",
       "    <tr>\n",
       "      <th>24</th>\n",
       "      <td>10</td>\n",
       "      <td>5</td>\n",
       "      <td>1</td>\n",
       "      <td>uniform</td>\n",
       "      <td>0.520468</td>\n",
       "    </tr>\n",
       "    <tr>\n",
       "      <th>25</th>\n",
       "      <td>10</td>\n",
       "      <td>5</td>\n",
       "      <td>1</td>\n",
       "      <td>distance</td>\n",
       "      <td>0.790048</td>\n",
       "    </tr>\n",
       "    <tr>\n",
       "      <th>26</th>\n",
       "      <td>10</td>\n",
       "      <td>5</td>\n",
       "      <td>2</td>\n",
       "      <td>uniform</td>\n",
       "      <td>0.615689</td>\n",
       "    </tr>\n",
       "    <tr>\n",
       "      <th>27</th>\n",
       "      <td>10</td>\n",
       "      <td>5</td>\n",
       "      <td>2</td>\n",
       "      <td>distance</td>\n",
       "      <td>0.755130</td>\n",
       "    </tr>\n",
       "    <tr>\n",
       "      <th>28</th>\n",
       "      <td>10</td>\n",
       "      <td>10</td>\n",
       "      <td>1</td>\n",
       "      <td>uniform</td>\n",
       "      <td>0.482105</td>\n",
       "    </tr>\n",
       "    <tr>\n",
       "      <th>29</th>\n",
       "      <td>10</td>\n",
       "      <td>10</td>\n",
       "      <td>1</td>\n",
       "      <td>distance</td>\n",
       "      <td>0.793617</td>\n",
       "    </tr>\n",
       "    <tr>\n",
       "      <th>30</th>\n",
       "      <td>10</td>\n",
       "      <td>10</td>\n",
       "      <td>2</td>\n",
       "      <td>uniform</td>\n",
       "      <td>0.583702</td>\n",
       "    </tr>\n",
       "    <tr>\n",
       "      <th>31</th>\n",
       "      <td>10</td>\n",
       "      <td>10</td>\n",
       "      <td>2</td>\n",
       "      <td>distance</td>\n",
       "      <td>0.768951</td>\n",
       "    </tr>\n",
       "    <tr>\n",
       "      <th>32</th>\n",
       "      <td>10</td>\n",
       "      <td>15</td>\n",
       "      <td>1</td>\n",
       "      <td>uniform</td>\n",
       "      <td>0.480556</td>\n",
       "    </tr>\n",
       "    <tr>\n",
       "      <th>33</th>\n",
       "      <td>10</td>\n",
       "      <td>15</td>\n",
       "      <td>1</td>\n",
       "      <td>distance</td>\n",
       "      <td>0.779488</td>\n",
       "    </tr>\n",
       "    <tr>\n",
       "      <th>34</th>\n",
       "      <td>10</td>\n",
       "      <td>15</td>\n",
       "      <td>2</td>\n",
       "      <td>uniform</td>\n",
       "      <td>0.574382</td>\n",
       "    </tr>\n",
       "    <tr>\n",
       "      <th>35</th>\n",
       "      <td>10</td>\n",
       "      <td>15</td>\n",
       "      <td>2</td>\n",
       "      <td>distance</td>\n",
       "      <td>0.772677</td>\n",
       "    </tr>\n",
       "  </tbody>\n",
       "</table>\n",
       "</div>"
      ],
      "text/plain": [
       "    leaf   n  p    weight    recall\n",
       "0   30    5   1  uniform   0.520468\n",
       "1   30    5   1  distance  0.790048\n",
       "2   30    5   2  uniform   0.615689\n",
       "3   30    5   2  distance  0.755130\n",
       "4   30    10  1  uniform   0.482105\n",
       "5   30    10  1  distance  0.793617\n",
       "6   30    10  2  uniform   0.583702\n",
       "7   30    10  2  distance  0.768951\n",
       "8   30    15  1  uniform   0.480556\n",
       "9   30    15  1  distance  0.779488\n",
       "10  30    15  2  uniform   0.574382\n",
       "11  30    15  2  distance  0.772677\n",
       "12  20    5   1  uniform   0.520468\n",
       "13  20    5   1  distance  0.790048\n",
       "14  20    5   2  uniform   0.615689\n",
       "15  20    5   2  distance  0.755130\n",
       "16  20    10  1  uniform   0.482105\n",
       "17  20    10  1  distance  0.793617\n",
       "18  20    10  2  uniform   0.583702\n",
       "19  20    10  2  distance  0.768951\n",
       "20  20    15  1  uniform   0.480556\n",
       "21  20    15  1  distance  0.779488\n",
       "22  20    15  2  uniform   0.574382\n",
       "23  20    15  2  distance  0.772677\n",
       "24  10    5   1  uniform   0.520468\n",
       "25  10    5   1  distance  0.790048\n",
       "26  10    5   2  uniform   0.615689\n",
       "27  10    5   2  distance  0.755130\n",
       "28  10    10  1  uniform   0.482105\n",
       "29  10    10  1  distance  0.793617\n",
       "30  10    10  2  uniform   0.583702\n",
       "31  10    10  2  distance  0.768951\n",
       "32  10    15  1  uniform   0.480556\n",
       "33  10    15  1  distance  0.779488\n",
       "34  10    15  2  uniform   0.574382\n",
       "35  10    15  2  distance  0.772677"
      ]
     },
     "execution_count": 45,
     "metadata": {},
     "output_type": "execute_result"
    }
   ],
   "source": [
    "pd.DataFrame(score, columns=['leaf','n','p','weight','recall'])"
   ]
  },
  {
   "cell_type": "code",
   "execution_count": null,
   "metadata": {},
   "outputs": [],
   "source": [
    "KNeighborsClassifier()"
   ]
  },
  {
   "cell_type": "code",
   "execution_count": 46,
   "metadata": {
    "execution": {
     "iopub.execute_input": "2020-11-22T07:00:22.269571Z",
     "iopub.status.busy": "2020-11-22T07:00:22.268575Z",
     "iopub.status.idle": "2020-11-22T07:05:10.453719Z",
     "shell.execute_reply": "2020-11-22T07:05:10.452719Z",
     "shell.execute_reply.started": "2020-11-22T07:00:22.269571Z"
    }
   },
   "outputs": [
    {
     "name": "stdout",
     "output_type": "stream",
     "text": [
      "Fitting 4 folds for each of 1 candidates, totalling 4 fits\n"
     ]
    },
    {
     "name": "stderr",
     "output_type": "stream",
     "text": [
      "[Parallel(n_jobs=-1)]: Using backend LokyBackend with 12 concurrent workers.\n",
      "[Parallel(n_jobs=-1)]: Done   4 out of   4 | elapsed:  2.5min finished\n"
     ]
    }
   ],
   "source": [
    "params = {\n",
    "            'kneighborsclassifier__leaf_size': [30],\n",
    "            'kneighborsclassifier__n_neighbors': [10],\n",
    "            'kneighborsclassifier__p': [1],\n",
    "            'kneighborsclassifier__weights' : ['distance']\n",
    "        }\n",
    "gridKNN = GridSearchCV(estimator=knnpipe, param_grid=params, cv=4, verbose=1, n_jobs=-1)\n",
    "gridKNN.fit(xtrain,ytrain)\n",
    "ygrid = gridKNN.predict(xtest)"
   ]
  },
  {
   "cell_type": "code",
   "execution_count": 47,
   "metadata": {
    "execution": {
     "iopub.execute_input": "2020-11-22T07:05:10.454716Z",
     "iopub.status.busy": "2020-11-22T07:05:10.453719Z",
     "iopub.status.idle": "2020-11-22T07:05:10.562433Z",
     "shell.execute_reply": "2020-11-22T07:05:10.561436Z",
     "shell.execute_reply.started": "2020-11-22T07:05:10.454716Z"
    }
   },
   "outputs": [
    {
     "name": "stdout",
     "output_type": "stream",
     "text": [
      "              precision    recall  f1-score   support\n",
      "\n",
      "    Negative       0.92      0.69      0.79      2146\n",
      "     Neutral       0.82      0.85      0.84      2147\n",
      "    Positive       0.69      0.84      0.76      2147\n",
      "\n",
      "    accuracy                           0.79      6440\n",
      "   macro avg       0.81      0.79      0.79      6440\n",
      "weighted avg       0.81      0.79      0.79      6440\n",
      "\n"
     ]
    }
   ],
   "source": [
    "print(classification_report(ytest,ygrid))"
   ]
  },
  {
   "cell_type": "code",
   "execution_count": 48,
   "metadata": {
    "execution": {
     "iopub.execute_input": "2020-11-22T07:05:10.563459Z",
     "iopub.status.busy": "2020-11-22T07:05:10.563459Z",
     "iopub.status.idle": "2020-11-22T07:05:10.593457Z",
     "shell.execute_reply": "2020-11-22T07:05:10.593457Z",
     "shell.execute_reply.started": "2020-11-22T07:05:10.563459Z"
    }
   },
   "outputs": [
    {
     "data": {
      "text/html": [
       "<div>\n",
       "<style scoped>\n",
       "    .dataframe tbody tr th:only-of-type {\n",
       "        vertical-align: middle;\n",
       "    }\n",
       "\n",
       "    .dataframe tbody tr th {\n",
       "        vertical-align: top;\n",
       "    }\n",
       "\n",
       "    .dataframe thead th {\n",
       "        text-align: right;\n",
       "    }\n",
       "</style>\n",
       "<table border=\"1\" class=\"dataframe\">\n",
       "  <thead>\n",
       "    <tr style=\"text-align: right;\">\n",
       "      <th></th>\n",
       "      <th>Positive</th>\n",
       "      <th>Negative</th>\n",
       "      <th>Neutral</th>\n",
       "    </tr>\n",
       "  </thead>\n",
       "  <tbody>\n",
       "    <tr>\n",
       "      <th>Positive</th>\n",
       "      <td>1804</td>\n",
       "      <td>100</td>\n",
       "      <td>243</td>\n",
       "    </tr>\n",
       "    <tr>\n",
       "      <th>Negative</th>\n",
       "      <td>511</td>\n",
       "      <td>1478</td>\n",
       "      <td>157</td>\n",
       "    </tr>\n",
       "    <tr>\n",
       "      <th>Neutral</th>\n",
       "      <td>286</td>\n",
       "      <td>32</td>\n",
       "      <td>1829</td>\n",
       "    </tr>\n",
       "  </tbody>\n",
       "</table>\n",
       "</div>"
      ],
      "text/plain": [
       "          Positive  Negative  Neutral\n",
       "Positive  1804      100       243    \n",
       "Negative  511       1478      157    \n",
       "Neutral   286       32        1829   "
      ]
     },
     "execution_count": 48,
     "metadata": {},
     "output_type": "execute_result"
    }
   ],
   "source": [
    "cm = confusion_matrix(ytest,ygrid,labels=lab)\n",
    "pd.DataFrame(cm, columns=lab,index=lab)"
   ]
  },
  {
   "cell_type": "markdown",
   "metadata": {},
   "source": [
    "## Note:\n",
    "\n",
    "- Hyper Parameter Tuning improve precision score up to 0.18 point and improve recall, accuracy and f1-score up to 0.17 point\n",
    "- Best parameter for KNNClassifier in this project are : leaf_size = 30, n_neighbour = 10, p = 1, and weights = distance"
   ]
  },
  {
   "cell_type": "markdown",
   "metadata": {},
   "source": [
    "## Export Model"
   ]
  },
  {
   "cell_type": "code",
   "execution_count": 49,
   "metadata": {
    "execution": {
     "iopub.execute_input": "2020-11-22T07:31:31.159603Z",
     "iopub.status.busy": "2020-11-22T07:31:31.159603Z",
     "iopub.status.idle": "2020-11-22T07:31:31.181544Z",
     "shell.execute_reply": "2020-11-22T07:31:31.180547Z",
     "shell.execute_reply.started": "2020-11-22T07:31:31.159603Z"
    }
   },
   "outputs": [],
   "source": [
    "import joblib"
   ]
  },
  {
   "cell_type": "code",
   "execution_count": 51,
   "metadata": {
    "execution": {
     "iopub.execute_input": "2020-11-22T07:31:52.813577Z",
     "iopub.status.busy": "2020-11-22T07:31:52.813577Z",
     "iopub.status.idle": "2020-11-22T07:31:52.828537Z",
     "shell.execute_reply": "2020-11-22T07:31:52.828537Z",
     "shell.execute_reply.started": "2020-11-22T07:31:52.813577Z"
    }
   },
   "outputs": [],
   "source": [
    "model = gridKNN.best_estimator_"
   ]
  },
  {
   "cell_type": "code",
   "execution_count": 52,
   "metadata": {
    "execution": {
     "iopub.execute_input": "2020-11-22T07:32:00.824389Z",
     "iopub.status.busy": "2020-11-22T07:32:00.824389Z",
     "iopub.status.idle": "2020-11-22T07:32:02.153972Z",
     "shell.execute_reply": "2020-11-22T07:32:02.153210Z",
     "shell.execute_reply.started": "2020-11-22T07:32:00.824389Z"
    }
   },
   "outputs": [
    {
     "data": {
      "text/plain": [
       "['KNNClassifier']"
      ]
     },
     "execution_count": 52,
     "metadata": {},
     "output_type": "execute_result"
    }
   ],
   "source": [
    "joblib.dump(model, \"KNNClassifier\")"
   ]
  },
  {
   "cell_type": "code",
   "execution_count": 53,
   "metadata": {
    "execution": {
     "iopub.execute_input": "2020-11-22T14:37:30.928046Z",
     "iopub.status.busy": "2020-11-22T14:37:30.928046Z",
     "iopub.status.idle": "2020-11-22T14:37:30.944004Z",
     "shell.execute_reply": "2020-11-22T14:37:30.944004Z",
     "shell.execute_reply.started": "2020-11-22T14:37:30.928046Z"
    }
   },
   "outputs": [
    {
     "data": {
      "text/plain": [
       "0.6898571371069353"
      ]
     },
     "execution_count": 53,
     "metadata": {},
     "output_type": "execute_result"
    }
   ],
   "source": [
    "gridKNN.best_score_"
   ]
  }
 ],
 "metadata": {
  "kernelspec": {
   "display_name": "Python 3",
   "language": "python",
   "name": "python3"
  },
  "language_info": {
   "codemirror_mode": {
    "name": "ipython",
    "version": 3
   },
   "file_extension": ".py",
   "mimetype": "text/x-python",
   "name": "python",
   "nbconvert_exporter": "python",
   "pygments_lexer": "ipython3",
   "version": "3.8.3"
  }
 },
 "nbformat": 4,
 "nbformat_minor": 4
}
