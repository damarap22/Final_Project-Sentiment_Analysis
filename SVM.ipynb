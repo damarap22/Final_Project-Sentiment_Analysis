{
 "cells": [
  {
   "cell_type": "code",
   "execution_count": 90,
   "metadata": {
    "execution": {
     "iopub.execute_input": "2020-11-22T08:24:39.036525Z",
     "iopub.status.busy": "2020-11-22T08:24:39.035517Z",
     "iopub.status.idle": "2020-11-22T08:24:39.049479Z",
     "shell.execute_reply": "2020-11-22T08:24:39.049479Z",
     "shell.execute_reply.started": "2020-11-22T08:24:39.036525Z"
    }
   },
   "outputs": [
    {
     "name": "stderr",
     "output_type": "stream",
     "text": [
      "<ipython-input-90-0ba89c6bbed2>:12: FutureWarning: Passing a negative integer is deprecated in version 1.0 and will not be supported in future version. Instead, use None to not limit the column width.\n",
      "  pd.set_option('display.max_colwidth', -1)\n"
     ]
    }
   ],
   "source": [
    "import pandas as pd\n",
    "import re\n",
    "import spacy\n",
    "import json\n",
    "import string\n",
    "from spacy.lang.en.stop_words import STOP_WORDS\n",
    "from sklearn.utils import resample\n",
    "from sklearn.feature_extraction.text import CountVectorizer, TfidfVectorizer\n",
    "from sklearn.svm import LinearSVC\n",
    "from sklearn.model_selection import train_test_split, GridSearchCV\n",
    "from sklearn.metrics import recall_score, classification_report, confusion_matrix\n",
    "pd.set_option('display.max_colwidth', -1)"
   ]
  },
  {
   "cell_type": "code",
   "execution_count": 91,
   "metadata": {
    "execution": {
     "iopub.execute_input": "2020-11-22T08:24:39.050477Z",
     "iopub.status.busy": "2020-11-22T08:24:39.050477Z",
     "iopub.status.idle": "2020-11-22T08:24:39.176759Z",
     "shell.execute_reply": "2020-11-22T08:24:39.174758Z",
     "shell.execute_reply.started": "2020-11-22T08:24:39.050477Z"
    }
   },
   "outputs": [],
   "source": [
    "data = pd.read_csv('bigram.csv')"
   ]
  },
  {
   "cell_type": "markdown",
   "metadata": {},
   "source": [
    "# Token"
   ]
  },
  {
   "cell_type": "code",
   "execution_count": 92,
   "metadata": {
    "execution": {
     "iopub.execute_input": "2020-11-22T08:24:39.177763Z",
     "iopub.status.busy": "2020-11-22T08:24:39.177763Z",
     "iopub.status.idle": "2020-11-22T08:24:39.774506Z",
     "shell.execute_reply": "2020-11-22T08:24:39.774506Z",
     "shell.execute_reply.started": "2020-11-22T08:24:39.177763Z"
    }
   },
   "outputs": [],
   "source": [
    "with open('cont_en.json') as file:\n",
    "    contEn = json.load(file)\n",
    "    \n",
    "c_re = re.compile('(%s)' % '|'.join(contEn.keys()))\n",
    "\n",
    "def expandContractions(text, c_re=c_re):         # expanding contractiion into full form word. ex: won't -> will not\n",
    "    def replace(match):\n",
    "        return contEn[match.group(0)]\n",
    "    return c_re.sub(replace, text.lower())\n",
    "\n",
    "def stars(text):\n",
    "    if '*' in text:\n",
    "        word = text.replace('*',' stars') # replacing * symbol with \"star\"\n",
    "    else:\n",
    "        word = text\n",
    "    return word\n",
    "\n",
    "def num2word(text):                        #convert number to string\n",
    "    if len(text) == 1 and text in '12345':\n",
    "        if text == '1':\n",
    "            word = 'one'\n",
    "        elif text == '2':\n",
    "            word = 'two'\n",
    "        elif text == '3':\n",
    "            word = 'three'\n",
    "        elif text == '4':\n",
    "            word = 'four'\n",
    "        elif text == '5':\n",
    "            word = 'five'\n",
    "        else:\n",
    "            word = text\n",
    "    else:\n",
    "        word = text\n",
    "    return word\n",
    "\n",
    "def lemma(word):\n",
    "    lemma_doc = nlp(\" \".join(word)) \n",
    "    lemma_text = [token.text if '_' in token.text else token.lemma_ for token in lemma_doc]\n",
    "    return lemma_text\n",
    "\n",
    "nlp = spacy.load(\"en_core_web_sm\")\n",
    "\n",
    "nlp.Defaults.stop_words -= {\"one\", \"two\",\"three\",\"four\",\"five\"} #removing those word from stop_word\n",
    "stopword = list(STOP_WORDS)\n",
    "\n",
    "stopword2 = stopword\n",
    "stopword2.extend(['good'])"
   ]
  },
  {
   "cell_type": "code",
   "execution_count": 93,
   "metadata": {
    "execution": {
     "iopub.execute_input": "2020-11-22T08:24:39.776505Z",
     "iopub.status.busy": "2020-11-22T08:24:39.775539Z",
     "iopub.status.idle": "2020-11-22T08:24:39.789490Z",
     "shell.execute_reply": "2020-11-22T08:24:39.789490Z",
     "shell.execute_reply.started": "2020-11-22T08:24:39.776505Z"
    }
   },
   "outputs": [],
   "source": [
    "def clean_text(text):\n",
    "    text = stars(text)\n",
    "    text = expandContractions(text)\n",
    "    text = re.split(r'\\W+',text)\n",
    "    text = [num2word(x) for x in text]\n",
    "    text = [x for x in text if x not in string.punctuation]\n",
    "    text = [\"have\" if x == \"ve\" else x for x in text]\n",
    "    text = [\"game\" if x == \"games\" else x for x in text]\n",
    "    text = [\"phone\" if x == \"mobile\" else x for x in text]\n",
    "    text = ' '.join(text).replace('one one','1.1').split()\n",
    "    text = [x for x in text if x not in stopword2 and len(x) > 1 and len(x) <= 45]\n",
    "    return text\n",
    "\n",
    "def tokenizer(bow):\n",
    "    text = clean_text(bow)\n",
    "    text = lemma(text) #,allowed_postags=['NOUN','VERB']\n",
    "    return text"
   ]
  },
  {
   "cell_type": "markdown",
   "metadata": {},
   "source": [
    "# Oversampling"
   ]
  },
  {
   "cell_type": "code",
   "execution_count": 94,
   "metadata": {
    "execution": {
     "iopub.execute_input": "2020-11-22T08:24:39.790489Z",
     "iopub.status.busy": "2020-11-22T08:24:39.790489Z",
     "iopub.status.idle": "2020-11-22T08:24:39.805481Z",
     "shell.execute_reply": "2020-11-22T08:24:39.805481Z",
     "shell.execute_reply.started": "2020-11-22T08:24:39.790489Z"
    }
   },
   "outputs": [],
   "source": [
    "pos = data[data.sentiment_score == \"Positive\"]\n",
    "neu = data[data.sentiment_score == \"Neutral\"]\n",
    "neg = data[data.sentiment_score == \"Negative\"]"
   ]
  },
  {
   "cell_type": "code",
   "execution_count": 95,
   "metadata": {
    "execution": {
     "iopub.execute_input": "2020-11-22T08:24:39.806445Z",
     "iopub.status.busy": "2020-11-22T08:24:39.806445Z",
     "iopub.status.idle": "2020-11-22T08:24:39.821437Z",
     "shell.execute_reply": "2020-11-22T08:24:39.821437Z",
     "shell.execute_reply.started": "2020-11-22T08:24:39.806445Z"
    }
   },
   "outputs": [],
   "source": [
    "neuOS = resample(neu, n_samples = len(pos), random_state=42)\n",
    "negOS = resample(neg, n_samples = len(pos), random_state=42)"
   ]
  },
  {
   "cell_type": "code",
   "execution_count": 96,
   "metadata": {
    "execution": {
     "iopub.execute_input": "2020-11-22T08:24:39.822403Z",
     "iopub.status.busy": "2020-11-22T08:24:39.822403Z",
     "iopub.status.idle": "2020-11-22T08:24:39.838364Z",
     "shell.execute_reply": "2020-11-22T08:24:39.837399Z",
     "shell.execute_reply.started": "2020-11-22T08:24:39.822403Z"
    }
   },
   "outputs": [],
   "source": [
    "dataOS = pd.concat([pos,neuOS,negOS],axis=0)"
   ]
  },
  {
   "cell_type": "markdown",
   "metadata": {},
   "source": [
    "# Model Selection"
   ]
  },
  {
   "cell_type": "code",
   "execution_count": 97,
   "metadata": {
    "execution": {
     "iopub.execute_input": "2020-11-22T08:24:39.842351Z",
     "iopub.status.busy": "2020-11-22T08:24:39.840366Z",
     "iopub.status.idle": "2020-11-22T08:24:39.853344Z",
     "shell.execute_reply": "2020-11-22T08:24:39.853344Z",
     "shell.execute_reply.started": "2020-11-22T08:24:39.842351Z"
    }
   },
   "outputs": [],
   "source": [
    "x = dataOS['content']\n",
    "y = dataOS['sentiment_score']"
   ]
  },
  {
   "cell_type": "code",
   "execution_count": 98,
   "metadata": {
    "execution": {
     "iopub.execute_input": "2020-11-22T08:24:39.855339Z",
     "iopub.status.busy": "2020-11-22T08:24:39.855339Z",
     "iopub.status.idle": "2020-11-22T08:24:39.868281Z",
     "shell.execute_reply": "2020-11-22T08:24:39.868281Z",
     "shell.execute_reply.started": "2020-11-22T08:24:39.855339Z"
    }
   },
   "outputs": [],
   "source": [
    "cv = TfidfVectorizer(min_df=5, sublinear_tf=True, tokenizer=tokenizer, stop_words=stopword, ngram_range=(1,3))"
   ]
  },
  {
   "cell_type": "code",
   "execution_count": 99,
   "metadata": {
    "execution": {
     "iopub.execute_input": "2020-11-22T08:24:39.869278Z",
     "iopub.status.busy": "2020-11-22T08:24:39.869278Z",
     "iopub.status.idle": "2020-11-22T08:24:39.901194Z",
     "shell.execute_reply": "2020-11-22T08:24:39.900237Z",
     "shell.execute_reply.started": "2020-11-22T08:24:39.869278Z"
    }
   },
   "outputs": [],
   "source": [
    "xtrain,xtest,ytrain,ytest = train_test_split(x,y,train_size=.7, random_state = 42, stratify = y)"
   ]
  },
  {
   "cell_type": "markdown",
   "metadata": {},
   "source": [
    "# Pipeline"
   ]
  },
  {
   "cell_type": "code",
   "execution_count": 100,
   "metadata": {
    "execution": {
     "iopub.execute_input": "2020-11-22T08:24:39.902194Z",
     "iopub.status.busy": "2020-11-22T08:24:39.902194Z",
     "iopub.status.idle": "2020-11-22T08:24:39.917149Z",
     "shell.execute_reply": "2020-11-22T08:24:39.916176Z",
     "shell.execute_reply.started": "2020-11-22T08:24:39.902194Z"
    }
   },
   "outputs": [],
   "source": [
    "from sklearn.pipeline import make_pipeline"
   ]
  },
  {
   "cell_type": "code",
   "execution_count": 101,
   "metadata": {
    "execution": {
     "iopub.execute_input": "2020-11-22T08:24:39.918148Z",
     "iopub.status.busy": "2020-11-22T08:24:39.918148Z",
     "iopub.status.idle": "2020-11-22T08:24:39.932141Z",
     "shell.execute_reply": "2020-11-22T08:24:39.932141Z",
     "shell.execute_reply.started": "2020-11-22T08:24:39.918148Z"
    }
   },
   "outputs": [],
   "source": [
    "SVCpipe = make_pipeline(cv,SVC(verbose=1, random_state=42, probability=True))"
   ]
  },
  {
   "cell_type": "code",
   "execution_count": 102,
   "metadata": {
    "execution": {
     "iopub.execute_input": "2020-11-22T08:24:39.933106Z",
     "iopub.status.busy": "2020-11-22T08:24:39.933106Z",
     "iopub.status.idle": "2020-11-22T08:29:35.454327Z",
     "shell.execute_reply": "2020-11-22T08:29:35.452333Z",
     "shell.execute_reply.started": "2020-11-22T08:24:39.933106Z"
    }
   },
   "outputs": [
    {
     "name": "stdout",
     "output_type": "stream",
     "text": [
      "[LibSVM]"
     ]
    },
    {
     "data": {
      "text/plain": [
       "Pipeline(steps=[('tfidfvectorizer',\n",
       "                 TfidfVectorizer(min_df=5, ngram_range=(1, 3),\n",
       "                                 stop_words=['very', \"n't\", 'too', 'ever',\n",
       "                                             'perhaps', '’re', 'us', 'become',\n",
       "                                             'nor', 'moreover', 'most',\n",
       "                                             'thereupon', 'itself', 'empty',\n",
       "                                             'whereafter', 'make', 'except',\n",
       "                                             'whole', 'themselves', 'so', 'is',\n",
       "                                             'whereas', 'twelve', 'made',\n",
       "                                             'elsewhere', 'herself',\n",
       "                                             'therefore', 'done', 'further',\n",
       "                                             'upon', ...],\n",
       "                                 sublinear_tf=True,\n",
       "                                 tokenizer=<function tokenizer at 0x00000146CE28AEE0>)),\n",
       "                ('svc', SVC(probability=True, random_state=42, verbose=1))])"
      ]
     },
     "execution_count": 102,
     "metadata": {},
     "output_type": "execute_result"
    }
   ],
   "source": [
    "SVCpipe.fit(xtrain,ytrain)"
   ]
  },
  {
   "cell_type": "code",
   "execution_count": 103,
   "metadata": {
    "execution": {
     "iopub.execute_input": "2020-11-22T08:29:35.456339Z",
     "iopub.status.busy": "2020-11-22T08:29:35.455323Z",
     "iopub.status.idle": "2020-11-22T08:30:26.473474Z",
     "shell.execute_reply": "2020-11-22T08:30:26.473474Z",
     "shell.execute_reply.started": "2020-11-22T08:29:35.455323Z"
    }
   },
   "outputs": [],
   "source": [
    "ypred = SVCpipe.predict(xtest)"
   ]
  },
  {
   "cell_type": "code",
   "execution_count": 104,
   "metadata": {
    "execution": {
     "iopub.execute_input": "2020-11-22T08:30:26.474459Z",
     "iopub.status.busy": "2020-11-22T08:30:26.474459Z",
     "iopub.status.idle": "2020-11-22T08:30:26.615082Z",
     "shell.execute_reply": "2020-11-22T08:30:26.615082Z",
     "shell.execute_reply.started": "2020-11-22T08:30:26.474459Z"
    }
   },
   "outputs": [
    {
     "name": "stdout",
     "output_type": "stream",
     "text": [
      "              precision    recall  f1-score   support\n",
      "\n",
      "    Negative       0.83      0.86      0.85      2146\n",
      "     Neutral       0.85      0.85      0.85      2147\n",
      "    Positive       0.85      0.81      0.83      2147\n",
      "\n",
      "    accuracy                           0.84      6440\n",
      "   macro avg       0.84      0.84      0.84      6440\n",
      "weighted avg       0.84      0.84      0.84      6440\n",
      "\n"
     ]
    }
   ],
   "source": [
    "print(classification_report(ytest,ypred))"
   ]
  },
  {
   "cell_type": "code",
   "execution_count": 105,
   "metadata": {
    "execution": {
     "iopub.execute_input": "2020-11-22T08:30:26.616079Z",
     "iopub.status.busy": "2020-11-22T08:30:26.616079Z",
     "iopub.status.idle": "2020-11-22T08:30:26.632039Z",
     "shell.execute_reply": "2020-11-22T08:30:26.630059Z",
     "shell.execute_reply.started": "2020-11-22T08:30:26.616079Z"
    }
   },
   "outputs": [],
   "source": [
    "lab = ['Positive','Negative','Neutral']"
   ]
  },
  {
   "cell_type": "code",
   "execution_count": 106,
   "metadata": {
    "execution": {
     "iopub.execute_input": "2020-11-22T08:30:26.635063Z",
     "iopub.status.busy": "2020-11-22T08:30:26.635063Z",
     "iopub.status.idle": "2020-11-22T08:30:26.661968Z",
     "shell.execute_reply": "2020-11-22T08:30:26.660963Z",
     "shell.execute_reply.started": "2020-11-22T08:30:26.635063Z"
    }
   },
   "outputs": [
    {
     "data": {
      "text/html": [
       "<div>\n",
       "<style scoped>\n",
       "    .dataframe tbody tr th:only-of-type {\n",
       "        vertical-align: middle;\n",
       "    }\n",
       "\n",
       "    .dataframe tbody tr th {\n",
       "        vertical-align: top;\n",
       "    }\n",
       "\n",
       "    .dataframe thead th {\n",
       "        text-align: right;\n",
       "    }\n",
       "</style>\n",
       "<table border=\"1\" class=\"dataframe\">\n",
       "  <thead>\n",
       "    <tr style=\"text-align: right;\">\n",
       "      <th></th>\n",
       "      <th>Positive</th>\n",
       "      <th>Negative</th>\n",
       "      <th>Neutral</th>\n",
       "    </tr>\n",
       "  </thead>\n",
       "  <tbody>\n",
       "    <tr>\n",
       "      <th>Positive</th>\n",
       "      <td>1746</td>\n",
       "      <td>219</td>\n",
       "      <td>182</td>\n",
       "    </tr>\n",
       "    <tr>\n",
       "      <th>Negative</th>\n",
       "      <td>150</td>\n",
       "      <td>1849</td>\n",
       "      <td>147</td>\n",
       "    </tr>\n",
       "    <tr>\n",
       "      <th>Neutral</th>\n",
       "      <td>167</td>\n",
       "      <td>159</td>\n",
       "      <td>1821</td>\n",
       "    </tr>\n",
       "  </tbody>\n",
       "</table>\n",
       "</div>"
      ],
      "text/plain": [
       "          Positive  Negative  Neutral\n",
       "Positive  1746      219       182    \n",
       "Negative  150       1849      147    \n",
       "Neutral   167       159       1821   "
      ]
     },
     "execution_count": 106,
     "metadata": {},
     "output_type": "execute_result"
    }
   ],
   "source": [
    "cm = confusion_matrix(ytest,ypred,labels=lab)\n",
    "pd.DataFrame(cm, columns=lab,index=lab)"
   ]
  },
  {
   "cell_type": "code",
   "execution_count": 107,
   "metadata": {
    "execution": {
     "iopub.execute_input": "2020-11-22T08:30:26.662955Z",
     "iopub.status.busy": "2020-11-22T08:30:26.662955Z",
     "iopub.status.idle": "2020-11-22T08:30:26.694916Z",
     "shell.execute_reply": "2020-11-22T08:30:26.692920Z",
     "shell.execute_reply.started": "2020-11-22T08:30:26.662955Z"
    }
   },
   "outputs": [
    {
     "data": {
      "text/plain": [
       "array(['Negative'], dtype=object)"
      ]
     },
     "execution_count": 107,
     "metadata": {},
     "output_type": "execute_result"
    }
   ],
   "source": [
    "text = ['Awfull gacha rates']\n",
    "SVCpipe.predict(text)"
   ]
  },
  {
   "cell_type": "code",
   "execution_count": 108,
   "metadata": {
    "execution": {
     "iopub.execute_input": "2020-11-22T08:30:26.696868Z",
     "iopub.status.busy": "2020-11-22T08:30:26.696868Z",
     "iopub.status.idle": "2020-11-22T08:30:26.725823Z",
     "shell.execute_reply": "2020-11-22T08:30:26.724855Z",
     "shell.execute_reply.started": "2020-11-22T08:30:26.696868Z"
    }
   },
   "outputs": [
    {
     "data": {
      "text/plain": [
       "array([[0.94676819, 0.02186936, 0.03136245]])"
      ]
     },
     "execution_count": 108,
     "metadata": {},
     "output_type": "execute_result"
    }
   ],
   "source": [
    "SVCpipe.predict_proba(text)"
   ]
  },
  {
   "cell_type": "markdown",
   "metadata": {},
   "source": [
    "# Hyper Parameter Tuning"
   ]
  },
  {
   "cell_type": "code",
   "execution_count": 111,
   "metadata": {
    "execution": {
     "iopub.execute_input": "2020-11-22T08:33:53.192567Z",
     "iopub.status.busy": "2020-11-22T08:33:53.192567Z",
     "iopub.status.idle": "2020-11-22T08:33:53.207541Z",
     "shell.execute_reply": "2020-11-22T08:33:53.206561Z",
     "shell.execute_reply.started": "2020-11-22T08:33:53.192567Z"
    }
   },
   "outputs": [],
   "source": [
    "# SVCpipe.get_params()"
   ]
  },
  {
   "cell_type": "code",
   "execution_count": 112,
   "metadata": {
    "execution": {
     "iopub.execute_input": "2020-11-22T08:35:41.243610Z",
     "iopub.status.busy": "2020-11-22T08:35:41.243610Z",
     "iopub.status.idle": "2020-11-22T08:35:41.252615Z",
     "shell.execute_reply": "2020-11-22T08:35:41.251619Z",
     "shell.execute_reply.started": "2020-11-22T08:35:41.243610Z"
    }
   },
   "outputs": [],
   "source": [
    "svc__gamma = ['scale', 0.5, 1]\n",
    "svc__kernel = ['linear', 'rbf', 'sigmoid']\n",
    "svc__C = [1.0, 0.5, 1.5]"
   ]
  },
  {
   "cell_type": "code",
   "execution_count": 113,
   "metadata": {
    "execution": {
     "iopub.execute_input": "2020-11-22T08:35:41.793621Z",
     "iopub.status.busy": "2020-11-22T08:35:41.792643Z",
     "iopub.status.idle": "2020-11-22T14:05:17.828686Z",
     "shell.execute_reply": "2020-11-22T14:05:17.824746Z",
     "shell.execute_reply.started": "2020-11-22T08:35:41.793621Z"
    }
   },
   "outputs": [
    {
     "name": "stdout",
     "output_type": "stream",
     "text": [
      "Now running gamma scale, kernel linear, C 1.0\n",
      "Fitting 4 folds for each of 1 candidates, totalling 4 fits\n"
     ]
    },
    {
     "name": "stderr",
     "output_type": "stream",
     "text": [
      "[Parallel(n_jobs=-1)]: Using backend LokyBackend with 12 concurrent workers.\n",
      "[Parallel(n_jobs=-1)]: Done   4 out of   4 | elapsed:  4.3min finished\n"
     ]
    },
    {
     "name": "stdout",
     "output_type": "stream",
     "text": [
      "[LibSVM]================\n",
      "Now running gamma scale, kernel linear, C 0.5\n",
      "Fitting 4 folds for each of 1 candidates, totalling 4 fits\n"
     ]
    },
    {
     "name": "stderr",
     "output_type": "stream",
     "text": [
      "[Parallel(n_jobs=-1)]: Using backend LokyBackend with 12 concurrent workers.\n",
      "[Parallel(n_jobs=-1)]: Done   4 out of   4 | elapsed:  4.5min finished\n"
     ]
    },
    {
     "name": "stdout",
     "output_type": "stream",
     "text": [
      "[LibSVM]================\n",
      "Now running gamma scale, kernel linear, C 1.5\n",
      "Fitting 4 folds for each of 1 candidates, totalling 4 fits\n"
     ]
    },
    {
     "name": "stderr",
     "output_type": "stream",
     "text": [
      "[Parallel(n_jobs=-1)]: Using backend LokyBackend with 12 concurrent workers.\n",
      "[Parallel(n_jobs=-1)]: Done   4 out of   4 | elapsed:  7.5min finished\n"
     ]
    },
    {
     "name": "stdout",
     "output_type": "stream",
     "text": [
      "[LibSVM]================\n",
      "Now running gamma scale, kernel rbf, C 1.0\n",
      "Fitting 4 folds for each of 1 candidates, totalling 4 fits\n"
     ]
    },
    {
     "name": "stderr",
     "output_type": "stream",
     "text": [
      "[Parallel(n_jobs=-1)]: Using backend LokyBackend with 12 concurrent workers.\n",
      "[Parallel(n_jobs=-1)]: Done   4 out of   4 | elapsed:  8.0min finished\n"
     ]
    },
    {
     "name": "stdout",
     "output_type": "stream",
     "text": [
      "[LibSVM]================\n",
      "Now running gamma scale, kernel rbf, C 0.5\n",
      "Fitting 4 folds for each of 1 candidates, totalling 4 fits\n"
     ]
    },
    {
     "name": "stderr",
     "output_type": "stream",
     "text": [
      "[Parallel(n_jobs=-1)]: Using backend LokyBackend with 12 concurrent workers.\n",
      "[Parallel(n_jobs=-1)]: Done   4 out of   4 | elapsed:  7.4min finished\n"
     ]
    },
    {
     "name": "stdout",
     "output_type": "stream",
     "text": [
      "[LibSVM]================\n",
      "Now running gamma scale, kernel rbf, C 1.5\n",
      "Fitting 4 folds for each of 1 candidates, totalling 4 fits\n"
     ]
    },
    {
     "name": "stderr",
     "output_type": "stream",
     "text": [
      "[Parallel(n_jobs=-1)]: Using backend LokyBackend with 12 concurrent workers.\n",
      "[Parallel(n_jobs=-1)]: Done   4 out of   4 | elapsed:  8.7min finished\n"
     ]
    },
    {
     "name": "stdout",
     "output_type": "stream",
     "text": [
      "[LibSVM]================\n",
      "Now running gamma scale, kernel sigmoid, C 1.0\n",
      "Fitting 4 folds for each of 1 candidates, totalling 4 fits\n"
     ]
    },
    {
     "name": "stderr",
     "output_type": "stream",
     "text": [
      "[Parallel(n_jobs=-1)]: Using backend LokyBackend with 12 concurrent workers.\n",
      "[Parallel(n_jobs=-1)]: Done   4 out of   4 | elapsed:  7.5min finished\n"
     ]
    },
    {
     "name": "stdout",
     "output_type": "stream",
     "text": [
      "[LibSVM]================\n",
      "Now running gamma scale, kernel sigmoid, C 0.5\n",
      "Fitting 4 folds for each of 1 candidates, totalling 4 fits\n"
     ]
    },
    {
     "name": "stderr",
     "output_type": "stream",
     "text": [
      "[Parallel(n_jobs=-1)]: Using backend LokyBackend with 12 concurrent workers.\n",
      "[Parallel(n_jobs=-1)]: Done   4 out of   4 | elapsed:  5.7min finished\n"
     ]
    },
    {
     "name": "stdout",
     "output_type": "stream",
     "text": [
      "[LibSVM]================\n",
      "Now running gamma scale, kernel sigmoid, C 1.5\n",
      "Fitting 4 folds for each of 1 candidates, totalling 4 fits\n"
     ]
    },
    {
     "name": "stderr",
     "output_type": "stream",
     "text": [
      "[Parallel(n_jobs=-1)]: Using backend LokyBackend with 12 concurrent workers.\n",
      "[Parallel(n_jobs=-1)]: Done   4 out of   4 | elapsed:  4.7min finished\n"
     ]
    },
    {
     "name": "stdout",
     "output_type": "stream",
     "text": [
      "[LibSVM]================\n",
      "Now running gamma 0.5, kernel linear, C 1.0\n",
      "Fitting 4 folds for each of 1 candidates, totalling 4 fits\n"
     ]
    },
    {
     "name": "stderr",
     "output_type": "stream",
     "text": [
      "[Parallel(n_jobs=-1)]: Using backend LokyBackend with 12 concurrent workers.\n",
      "[Parallel(n_jobs=-1)]: Done   4 out of   4 | elapsed:  6.7min finished\n"
     ]
    },
    {
     "name": "stdout",
     "output_type": "stream",
     "text": [
      "[LibSVM]================\n",
      "Now running gamma 0.5, kernel linear, C 0.5\n",
      "Fitting 4 folds for each of 1 candidates, totalling 4 fits\n"
     ]
    },
    {
     "name": "stderr",
     "output_type": "stream",
     "text": [
      "[Parallel(n_jobs=-1)]: Using backend LokyBackend with 12 concurrent workers.\n",
      "[Parallel(n_jobs=-1)]: Done   4 out of   4 | elapsed:  5.6min finished\n"
     ]
    },
    {
     "name": "stdout",
     "output_type": "stream",
     "text": [
      "[LibSVM]================\n",
      "Now running gamma 0.5, kernel linear, C 1.5\n",
      "Fitting 4 folds for each of 1 candidates, totalling 4 fits\n"
     ]
    },
    {
     "name": "stderr",
     "output_type": "stream",
     "text": [
      "[Parallel(n_jobs=-1)]: Using backend LokyBackend with 12 concurrent workers.\n",
      "[Parallel(n_jobs=-1)]: Done   4 out of   4 | elapsed:  6.7min finished\n"
     ]
    },
    {
     "name": "stdout",
     "output_type": "stream",
     "text": [
      "[LibSVM]================\n",
      "Now running gamma 0.5, kernel rbf, C 1.0\n",
      "Fitting 4 folds for each of 1 candidates, totalling 4 fits\n"
     ]
    },
    {
     "name": "stderr",
     "output_type": "stream",
     "text": [
      "[Parallel(n_jobs=-1)]: Using backend LokyBackend with 12 concurrent workers.\n",
      "[Parallel(n_jobs=-1)]: Done   4 out of   4 | elapsed:  8.2min finished\n"
     ]
    },
    {
     "name": "stdout",
     "output_type": "stream",
     "text": [
      "[LibSVM]================\n",
      "Now running gamma 0.5, kernel rbf, C 0.5\n",
      "Fitting 4 folds for each of 1 candidates, totalling 4 fits\n"
     ]
    },
    {
     "name": "stderr",
     "output_type": "stream",
     "text": [
      "[Parallel(n_jobs=-1)]: Using backend LokyBackend with 12 concurrent workers.\n",
      "[Parallel(n_jobs=-1)]: Done   4 out of   4 | elapsed:  8.4min finished\n"
     ]
    },
    {
     "name": "stdout",
     "output_type": "stream",
     "text": [
      "[LibSVM]================\n",
      "Now running gamma 0.5, kernel rbf, C 1.5\n",
      "Fitting 4 folds for each of 1 candidates, totalling 4 fits\n"
     ]
    },
    {
     "name": "stderr",
     "output_type": "stream",
     "text": [
      "[Parallel(n_jobs=-1)]: Using backend LokyBackend with 12 concurrent workers.\n",
      "[Parallel(n_jobs=-1)]: Done   4 out of   4 | elapsed: 10.3min finished\n"
     ]
    },
    {
     "name": "stdout",
     "output_type": "stream",
     "text": [
      "[LibSVM]================\n",
      "Now running gamma 0.5, kernel sigmoid, C 1.0\n",
      "Fitting 4 folds for each of 1 candidates, totalling 4 fits\n"
     ]
    },
    {
     "name": "stderr",
     "output_type": "stream",
     "text": [
      "[Parallel(n_jobs=-1)]: Using backend LokyBackend with 12 concurrent workers.\n",
      "[Parallel(n_jobs=-1)]: Done   4 out of   4 | elapsed:  5.1min finished\n"
     ]
    },
    {
     "name": "stdout",
     "output_type": "stream",
     "text": [
      "[LibSVM]================\n",
      "Now running gamma 0.5, kernel sigmoid, C 0.5\n",
      "Fitting 4 folds for each of 1 candidates, totalling 4 fits\n"
     ]
    },
    {
     "name": "stderr",
     "output_type": "stream",
     "text": [
      "[Parallel(n_jobs=-1)]: Using backend LokyBackend with 12 concurrent workers.\n",
      "[Parallel(n_jobs=-1)]: Done   4 out of   4 | elapsed:  5.0min finished\n"
     ]
    },
    {
     "name": "stdout",
     "output_type": "stream",
     "text": [
      "[LibSVM]================\n",
      "Now running gamma 0.5, kernel sigmoid, C 1.5\n",
      "Fitting 4 folds for each of 1 candidates, totalling 4 fits\n"
     ]
    },
    {
     "name": "stderr",
     "output_type": "stream",
     "text": [
      "[Parallel(n_jobs=-1)]: Using backend LokyBackend with 12 concurrent workers.\n",
      "[Parallel(n_jobs=-1)]: Done   4 out of   4 | elapsed:  4.5min finished\n"
     ]
    },
    {
     "name": "stdout",
     "output_type": "stream",
     "text": [
      "[LibSVM]================\n",
      "Now running gamma 1, kernel linear, C 1.0\n",
      "Fitting 4 folds for each of 1 candidates, totalling 4 fits\n"
     ]
    },
    {
     "name": "stderr",
     "output_type": "stream",
     "text": [
      "[Parallel(n_jobs=-1)]: Using backend LokyBackend with 12 concurrent workers.\n",
      "[Parallel(n_jobs=-1)]: Done   4 out of   4 | elapsed:  4.4min finished\n"
     ]
    },
    {
     "name": "stdout",
     "output_type": "stream",
     "text": [
      "[LibSVM]================\n",
      "Now running gamma 1, kernel linear, C 0.5\n",
      "Fitting 4 folds for each of 1 candidates, totalling 4 fits\n"
     ]
    },
    {
     "name": "stderr",
     "output_type": "stream",
     "text": [
      "[Parallel(n_jobs=-1)]: Using backend LokyBackend with 12 concurrent workers.\n",
      "[Parallel(n_jobs=-1)]: Done   4 out of   4 | elapsed:  4.6min finished\n"
     ]
    },
    {
     "name": "stdout",
     "output_type": "stream",
     "text": [
      "[LibSVM]================\n",
      "Now running gamma 1, kernel linear, C 1.5\n",
      "Fitting 4 folds for each of 1 candidates, totalling 4 fits\n"
     ]
    },
    {
     "name": "stderr",
     "output_type": "stream",
     "text": [
      "[Parallel(n_jobs=-1)]: Using backend LokyBackend with 12 concurrent workers.\n",
      "[Parallel(n_jobs=-1)]: Done   4 out of   4 | elapsed:  4.4min finished\n"
     ]
    },
    {
     "name": "stdout",
     "output_type": "stream",
     "text": [
      "[LibSVM]================\n",
      "Now running gamma 1, kernel rbf, C 1.0\n",
      "Fitting 4 folds for each of 1 candidates, totalling 4 fits\n"
     ]
    },
    {
     "name": "stderr",
     "output_type": "stream",
     "text": [
      "[Parallel(n_jobs=-1)]: Using backend LokyBackend with 12 concurrent workers.\n",
      "[Parallel(n_jobs=-1)]: Done   4 out of   4 | elapsed:  4.9min finished\n"
     ]
    },
    {
     "name": "stdout",
     "output_type": "stream",
     "text": [
      "[LibSVM]================\n",
      "Now running gamma 1, kernel rbf, C 0.5\n",
      "Fitting 4 folds for each of 1 candidates, totalling 4 fits\n"
     ]
    },
    {
     "name": "stderr",
     "output_type": "stream",
     "text": [
      "[Parallel(n_jobs=-1)]: Using backend LokyBackend with 12 concurrent workers.\n",
      "[Parallel(n_jobs=-1)]: Done   4 out of   4 | elapsed:  5.2min finished\n"
     ]
    },
    {
     "name": "stdout",
     "output_type": "stream",
     "text": [
      "[LibSVM]================\n",
      "Now running gamma 1, kernel rbf, C 1.5\n",
      "Fitting 4 folds for each of 1 candidates, totalling 4 fits\n"
     ]
    },
    {
     "name": "stderr",
     "output_type": "stream",
     "text": [
      "[Parallel(n_jobs=-1)]: Using backend LokyBackend with 12 concurrent workers.\n",
      "[Parallel(n_jobs=-1)]: Done   4 out of   4 | elapsed:  5.0min finished\n"
     ]
    },
    {
     "name": "stdout",
     "output_type": "stream",
     "text": [
      "[LibSVM]================\n",
      "Now running gamma 1, kernel sigmoid, C 1.0\n",
      "Fitting 4 folds for each of 1 candidates, totalling 4 fits\n"
     ]
    },
    {
     "name": "stderr",
     "output_type": "stream",
     "text": [
      "[Parallel(n_jobs=-1)]: Using backend LokyBackend with 12 concurrent workers.\n",
      "[Parallel(n_jobs=-1)]: Done   4 out of   4 | elapsed:  4.3min finished\n"
     ]
    },
    {
     "name": "stdout",
     "output_type": "stream",
     "text": [
      "[LibSVM]================\n",
      "Now running gamma 1, kernel sigmoid, C 0.5\n",
      "Fitting 4 folds for each of 1 candidates, totalling 4 fits\n"
     ]
    },
    {
     "name": "stderr",
     "output_type": "stream",
     "text": [
      "[Parallel(n_jobs=-1)]: Using backend LokyBackend with 12 concurrent workers.\n",
      "[Parallel(n_jobs=-1)]: Done   4 out of   4 | elapsed:  4.4min finished\n"
     ]
    },
    {
     "name": "stdout",
     "output_type": "stream",
     "text": [
      "[LibSVM]================\n",
      "Now running gamma 1, kernel sigmoid, C 1.5\n",
      "Fitting 4 folds for each of 1 candidates, totalling 4 fits\n"
     ]
    },
    {
     "name": "stderr",
     "output_type": "stream",
     "text": [
      "[Parallel(n_jobs=-1)]: Using backend LokyBackend with 12 concurrent workers.\n",
      "[Parallel(n_jobs=-1)]: Done   4 out of   4 | elapsed:  4.6min finished\n"
     ]
    },
    {
     "name": "stdout",
     "output_type": "stream",
     "text": [
      "[LibSVM]================\n"
     ]
    }
   ],
   "source": [
    "score = []\n",
    "for gamma in svc__gamma:\n",
    "    for kernel in svc__kernel:\n",
    "        for C in svc__C:\n",
    "            print(f'Now running gamma {gamma}, kernel {kernel}, C {C}')\n",
    "            params = {\n",
    "                       'svc__gamma': [gamma],\n",
    "                       'svc__kernel': [kernel],\n",
    "                       'svc__C': [C]}\n",
    "            gridSVC = GridSearchCV(estimator=SVCpipe, param_grid=params, cv=4, verbose=1, n_jobs=-1)\n",
    "            gridSVC.fit(xtrain,ytrain)\n",
    "            ygrid = gridSVC.predict(xtest)\n",
    "            recall = recall_score(ytest,ygrid,average='macro')\n",
    "            score.append([gamma,kernel,C,recall])\n",
    "            print('================')"
   ]
  },
  {
   "cell_type": "code",
   "execution_count": 114,
   "metadata": {
    "execution": {
     "iopub.execute_input": "2020-11-22T14:05:17.837713Z",
     "iopub.status.busy": "2020-11-22T14:05:17.837713Z",
     "iopub.status.idle": "2020-11-22T14:05:17.949100Z",
     "shell.execute_reply": "2020-11-22T14:05:17.948102Z",
     "shell.execute_reply.started": "2020-11-22T14:05:17.837713Z"
    }
   },
   "outputs": [
    {
     "data": {
      "text/html": [
       "<div>\n",
       "<style scoped>\n",
       "    .dataframe tbody tr th:only-of-type {\n",
       "        vertical-align: middle;\n",
       "    }\n",
       "\n",
       "    .dataframe tbody tr th {\n",
       "        vertical-align: top;\n",
       "    }\n",
       "\n",
       "    .dataframe thead th {\n",
       "        text-align: right;\n",
       "    }\n",
       "</style>\n",
       "<table border=\"1\" class=\"dataframe\">\n",
       "  <thead>\n",
       "    <tr style=\"text-align: right;\">\n",
       "      <th></th>\n",
       "      <th>gamma</th>\n",
       "      <th>kernel</th>\n",
       "      <th>C</th>\n",
       "      <th>recall</th>\n",
       "    </tr>\n",
       "  </thead>\n",
       "  <tbody>\n",
       "    <tr>\n",
       "      <th>0</th>\n",
       "      <td>scale</td>\n",
       "      <td>linear</td>\n",
       "      <td>1.0</td>\n",
       "      <td>0.767707</td>\n",
       "    </tr>\n",
       "    <tr>\n",
       "      <th>1</th>\n",
       "      <td>scale</td>\n",
       "      <td>linear</td>\n",
       "      <td>0.5</td>\n",
       "      <td>0.738669</td>\n",
       "    </tr>\n",
       "    <tr>\n",
       "      <th>2</th>\n",
       "      <td>scale</td>\n",
       "      <td>linear</td>\n",
       "      <td>1.5</td>\n",
       "      <td>0.788979</td>\n",
       "    </tr>\n",
       "    <tr>\n",
       "      <th>3</th>\n",
       "      <td>scale</td>\n",
       "      <td>rbf</td>\n",
       "      <td>1.0</td>\n",
       "      <td>0.840997</td>\n",
       "    </tr>\n",
       "    <tr>\n",
       "      <th>4</th>\n",
       "      <td>scale</td>\n",
       "      <td>rbf</td>\n",
       "      <td>0.5</td>\n",
       "      <td>0.794571</td>\n",
       "    </tr>\n",
       "    <tr>\n",
       "      <th>5</th>\n",
       "      <td>scale</td>\n",
       "      <td>rbf</td>\n",
       "      <td>1.5</td>\n",
       "      <td>0.851866</td>\n",
       "    </tr>\n",
       "    <tr>\n",
       "      <th>6</th>\n",
       "      <td>scale</td>\n",
       "      <td>sigmoid</td>\n",
       "      <td>1.0</td>\n",
       "      <td>0.713204</td>\n",
       "    </tr>\n",
       "    <tr>\n",
       "      <th>7</th>\n",
       "      <td>scale</td>\n",
       "      <td>sigmoid</td>\n",
       "      <td>0.5</td>\n",
       "      <td>0.697364</td>\n",
       "    </tr>\n",
       "    <tr>\n",
       "      <th>8</th>\n",
       "      <td>scale</td>\n",
       "      <td>sigmoid</td>\n",
       "      <td>1.5</td>\n",
       "      <td>0.712739</td>\n",
       "    </tr>\n",
       "    <tr>\n",
       "      <th>9</th>\n",
       "      <td>0.5</td>\n",
       "      <td>linear</td>\n",
       "      <td>1.0</td>\n",
       "      <td>0.767707</td>\n",
       "    </tr>\n",
       "    <tr>\n",
       "      <th>10</th>\n",
       "      <td>0.5</td>\n",
       "      <td>linear</td>\n",
       "      <td>0.5</td>\n",
       "      <td>0.738669</td>\n",
       "    </tr>\n",
       "    <tr>\n",
       "      <th>11</th>\n",
       "      <td>0.5</td>\n",
       "      <td>linear</td>\n",
       "      <td>1.5</td>\n",
       "      <td>0.788979</td>\n",
       "    </tr>\n",
       "    <tr>\n",
       "      <th>12</th>\n",
       "      <td>0.5</td>\n",
       "      <td>rbf</td>\n",
       "      <td>1.0</td>\n",
       "      <td>0.795347</td>\n",
       "    </tr>\n",
       "    <tr>\n",
       "      <th>13</th>\n",
       "      <td>0.5</td>\n",
       "      <td>rbf</td>\n",
       "      <td>0.5</td>\n",
       "      <td>0.747209</td>\n",
       "    </tr>\n",
       "    <tr>\n",
       "      <th>14</th>\n",
       "      <td>0.5</td>\n",
       "      <td>rbf</td>\n",
       "      <td>1.5</td>\n",
       "      <td>0.817706</td>\n",
       "    </tr>\n",
       "    <tr>\n",
       "      <th>15</th>\n",
       "      <td>0.5</td>\n",
       "      <td>sigmoid</td>\n",
       "      <td>1.0</td>\n",
       "      <td>0.727644</td>\n",
       "    </tr>\n",
       "    <tr>\n",
       "      <th>16</th>\n",
       "      <td>0.5</td>\n",
       "      <td>sigmoid</td>\n",
       "      <td>0.5</td>\n",
       "      <td>0.698917</td>\n",
       "    </tr>\n",
       "    <tr>\n",
       "      <th>17</th>\n",
       "      <td>0.5</td>\n",
       "      <td>sigmoid</td>\n",
       "      <td>1.5</td>\n",
       "      <td>0.744104</td>\n",
       "    </tr>\n",
       "    <tr>\n",
       "      <th>18</th>\n",
       "      <td>1</td>\n",
       "      <td>linear</td>\n",
       "      <td>1.0</td>\n",
       "      <td>0.767707</td>\n",
       "    </tr>\n",
       "    <tr>\n",
       "      <th>19</th>\n",
       "      <td>1</td>\n",
       "      <td>linear</td>\n",
       "      <td>0.5</td>\n",
       "      <td>0.738669</td>\n",
       "    </tr>\n",
       "    <tr>\n",
       "      <th>20</th>\n",
       "      <td>1</td>\n",
       "      <td>linear</td>\n",
       "      <td>1.5</td>\n",
       "      <td>0.788979</td>\n",
       "    </tr>\n",
       "    <tr>\n",
       "      <th>21</th>\n",
       "      <td>1</td>\n",
       "      <td>rbf</td>\n",
       "      <td>1.0</td>\n",
       "      <td>0.840997</td>\n",
       "    </tr>\n",
       "    <tr>\n",
       "      <th>22</th>\n",
       "      <td>1</td>\n",
       "      <td>rbf</td>\n",
       "      <td>0.5</td>\n",
       "      <td>0.794416</td>\n",
       "    </tr>\n",
       "    <tr>\n",
       "      <th>23</th>\n",
       "      <td>1</td>\n",
       "      <td>rbf</td>\n",
       "      <td>1.5</td>\n",
       "      <td>0.851866</td>\n",
       "    </tr>\n",
       "    <tr>\n",
       "      <th>24</th>\n",
       "      <td>1</td>\n",
       "      <td>sigmoid</td>\n",
       "      <td>1.0</td>\n",
       "      <td>0.713204</td>\n",
       "    </tr>\n",
       "    <tr>\n",
       "      <th>25</th>\n",
       "      <td>1</td>\n",
       "      <td>sigmoid</td>\n",
       "      <td>0.5</td>\n",
       "      <td>0.697364</td>\n",
       "    </tr>\n",
       "    <tr>\n",
       "      <th>26</th>\n",
       "      <td>1</td>\n",
       "      <td>sigmoid</td>\n",
       "      <td>1.5</td>\n",
       "      <td>0.712895</td>\n",
       "    </tr>\n",
       "  </tbody>\n",
       "</table>\n",
       "</div>"
      ],
      "text/plain": [
       "    gamma   kernel    C    recall\n",
       "0   scale  linear   1.0  0.767707\n",
       "1   scale  linear   0.5  0.738669\n",
       "2   scale  linear   1.5  0.788979\n",
       "3   scale  rbf      1.0  0.840997\n",
       "4   scale  rbf      0.5  0.794571\n",
       "5   scale  rbf      1.5  0.851866\n",
       "6   scale  sigmoid  1.0  0.713204\n",
       "7   scale  sigmoid  0.5  0.697364\n",
       "8   scale  sigmoid  1.5  0.712739\n",
       "9   0.5    linear   1.0  0.767707\n",
       "10  0.5    linear   0.5  0.738669\n",
       "11  0.5    linear   1.5  0.788979\n",
       "12  0.5    rbf      1.0  0.795347\n",
       "13  0.5    rbf      0.5  0.747209\n",
       "14  0.5    rbf      1.5  0.817706\n",
       "15  0.5    sigmoid  1.0  0.727644\n",
       "16  0.5    sigmoid  0.5  0.698917\n",
       "17  0.5    sigmoid  1.5  0.744104\n",
       "18  1      linear   1.0  0.767707\n",
       "19  1      linear   0.5  0.738669\n",
       "20  1      linear   1.5  0.788979\n",
       "21  1      rbf      1.0  0.840997\n",
       "22  1      rbf      0.5  0.794416\n",
       "23  1      rbf      1.5  0.851866\n",
       "24  1      sigmoid  1.0  0.713204\n",
       "25  1      sigmoid  0.5  0.697364\n",
       "26  1      sigmoid  1.5  0.712895"
      ]
     },
     "execution_count": 114,
     "metadata": {},
     "output_type": "execute_result"
    }
   ],
   "source": [
    "pd.DataFrame(score, columns=['gamma','kernel','C','recall'])"
   ]
  },
  {
   "cell_type": "markdown",
   "metadata": {},
   "source": [
    "### Best Parameter for SVC Model : gamma = scale, kernel= rbf, c = 1.5"
   ]
  },
  {
   "cell_type": "code",
   "execution_count": 115,
   "metadata": {
    "execution": {
     "iopub.execute_input": "2020-11-22T14:21:39.089099Z",
     "iopub.status.busy": "2020-11-22T14:21:39.089099Z",
     "iopub.status.idle": "2020-11-22T14:32:33.968667Z",
     "shell.execute_reply": "2020-11-22T14:32:33.968667Z",
     "shell.execute_reply.started": "2020-11-22T14:21:39.089099Z"
    }
   },
   "outputs": [
    {
     "name": "stdout",
     "output_type": "stream",
     "text": [
      "Fitting 4 folds for each of 1 candidates, totalling 4 fits\n"
     ]
    },
    {
     "name": "stderr",
     "output_type": "stream",
     "text": [
      "[Parallel(n_jobs=-1)]: Using backend LokyBackend with 12 concurrent workers.\n",
      "[Parallel(n_jobs=-1)]: Done   4 out of   4 | elapsed:  5.1min finished\n"
     ]
    },
    {
     "name": "stdout",
     "output_type": "stream",
     "text": [
      "[LibSVM]"
     ]
    }
   ],
   "source": [
    "params = {\n",
    "           'svc__gamma': ['scale'],\n",
    "           'svc__kernel': ['rbf'],\n",
    "           'svc__C': [1.5]}\n",
    "gridSVC = GridSearchCV(estimator=SVCpipe, param_grid=params, cv=4, verbose=1, n_jobs=-1)\n",
    "gridSVC.fit(xtrain,ytrain)\n",
    "ygrid = gridSVC.predict(xtest)"
   ]
  },
  {
   "cell_type": "code",
   "execution_count": 116,
   "metadata": {
    "execution": {
     "iopub.execute_input": "2020-11-22T14:32:33.970697Z",
     "iopub.status.busy": "2020-11-22T14:32:33.969699Z",
     "iopub.status.idle": "2020-11-22T14:32:34.081415Z",
     "shell.execute_reply": "2020-11-22T14:32:34.080423Z",
     "shell.execute_reply.started": "2020-11-22T14:32:33.970697Z"
    }
   },
   "outputs": [
    {
     "name": "stdout",
     "output_type": "stream",
     "text": [
      "              precision    recall  f1-score   support\n",
      "\n",
      "    Negative       0.84      0.87      0.85      2146\n",
      "     Neutral       0.86      0.86      0.86      2147\n",
      "    Positive       0.85      0.83      0.84      2147\n",
      "\n",
      "    accuracy                           0.85      6440\n",
      "   macro avg       0.85      0.85      0.85      6440\n",
      "weighted avg       0.85      0.85      0.85      6440\n",
      "\n"
     ]
    }
   ],
   "source": [
    "print(classification_report(ytest,ygrid))"
   ]
  },
  {
   "cell_type": "code",
   "execution_count": 117,
   "metadata": {
    "execution": {
     "iopub.execute_input": "2020-11-22T14:32:34.082365Z",
     "iopub.status.busy": "2020-11-22T14:32:34.082365Z",
     "iopub.status.idle": "2020-11-22T14:32:34.112333Z",
     "shell.execute_reply": "2020-11-22T14:32:34.111320Z",
     "shell.execute_reply.started": "2020-11-22T14:32:34.082365Z"
    }
   },
   "outputs": [
    {
     "data": {
      "text/html": [
       "<div>\n",
       "<style scoped>\n",
       "    .dataframe tbody tr th:only-of-type {\n",
       "        vertical-align: middle;\n",
       "    }\n",
       "\n",
       "    .dataframe tbody tr th {\n",
       "        vertical-align: top;\n",
       "    }\n",
       "\n",
       "    .dataframe thead th {\n",
       "        text-align: right;\n",
       "    }\n",
       "</style>\n",
       "<table border=\"1\" class=\"dataframe\">\n",
       "  <thead>\n",
       "    <tr style=\"text-align: right;\">\n",
       "      <th></th>\n",
       "      <th>Positive</th>\n",
       "      <th>Negative</th>\n",
       "      <th>Neutral</th>\n",
       "    </tr>\n",
       "  </thead>\n",
       "  <tbody>\n",
       "    <tr>\n",
       "      <th>Positive</th>\n",
       "      <td>1774</td>\n",
       "      <td>213</td>\n",
       "      <td>160</td>\n",
       "    </tr>\n",
       "    <tr>\n",
       "      <th>Negative</th>\n",
       "      <td>149</td>\n",
       "      <td>1858</td>\n",
       "      <td>139</td>\n",
       "    </tr>\n",
       "    <tr>\n",
       "      <th>Neutral</th>\n",
       "      <td>161</td>\n",
       "      <td>132</td>\n",
       "      <td>1854</td>\n",
       "    </tr>\n",
       "  </tbody>\n",
       "</table>\n",
       "</div>"
      ],
      "text/plain": [
       "          Positive  Negative  Neutral\n",
       "Positive  1774      213       160    \n",
       "Negative  149       1858      139    \n",
       "Neutral   161       132       1854   "
      ]
     },
     "execution_count": 117,
     "metadata": {},
     "output_type": "execute_result"
    }
   ],
   "source": [
    "cm = confusion_matrix(ytest,ygrid,labels=lab)\n",
    "pd.DataFrame(cm, columns=lab,index=lab)"
   ]
  },
  {
   "cell_type": "code",
   "execution_count": 119,
   "metadata": {
    "execution": {
     "iopub.execute_input": "2020-11-22T14:35:13.037026Z",
     "iopub.status.busy": "2020-11-22T14:35:13.037026Z",
     "iopub.status.idle": "2020-11-22T14:35:13.042014Z",
     "shell.execute_reply": "2020-11-22T14:35:13.042014Z",
     "shell.execute_reply.started": "2020-11-22T14:35:13.037026Z"
    }
   },
   "outputs": [],
   "source": [
    "model = gridSVC.best_estimator_"
   ]
  },
  {
   "cell_type": "markdown",
   "metadata": {},
   "source": [
    "## Note:\n",
    "\n",
    "- Hyper Parameter Tuning improve accuracy, precision, recall and f1-score up to 0.1 point.\n",
    "- Best parameter for SVC in thie project are gamma = scale, kernel= rbf and c = 1.5"
   ]
  },
  {
   "cell_type": "markdown",
   "metadata": {},
   "source": [
    "## Export Model"
   ]
  },
  {
   "cell_type": "code",
   "execution_count": 120,
   "metadata": {
    "execution": {
     "iopub.execute_input": "2020-11-22T14:35:24.405235Z",
     "iopub.status.busy": "2020-11-22T14:35:24.405235Z",
     "iopub.status.idle": "2020-11-22T14:35:24.424215Z",
     "shell.execute_reply": "2020-11-22T14:35:24.423215Z",
     "shell.execute_reply.started": "2020-11-22T14:35:24.405235Z"
    }
   },
   "outputs": [],
   "source": [
    "import joblib"
   ]
  },
  {
   "cell_type": "code",
   "execution_count": 121,
   "metadata": {
    "execution": {
     "iopub.execute_input": "2020-11-22T14:35:33.883340Z",
     "iopub.status.busy": "2020-11-22T14:35:33.883340Z",
     "iopub.status.idle": "2020-11-22T14:35:34.746616Z",
     "shell.execute_reply": "2020-11-22T14:35:34.745651Z",
     "shell.execute_reply.started": "2020-11-22T14:35:33.883340Z"
    }
   },
   "outputs": [
    {
     "data": {
      "text/plain": [
       "['SVC']"
      ]
     },
     "execution_count": 121,
     "metadata": {},
     "output_type": "execute_result"
    }
   ],
   "source": [
    "joblib.dump(model, \"SVC\")"
   ]
  },
  {
   "cell_type": "code",
   "execution_count": 126,
   "metadata": {
    "execution": {
     "iopub.execute_input": "2020-11-22T14:36:56.325674Z",
     "iopub.status.busy": "2020-11-22T14:36:56.324677Z",
     "iopub.status.idle": "2020-11-22T14:36:56.339668Z",
     "shell.execute_reply": "2020-11-22T14:36:56.339668Z",
     "shell.execute_reply.started": "2020-11-22T14:36:56.324677Z"
    }
   },
   "outputs": [
    {
     "data": {
      "text/plain": [
       "0.7988686471798613"
      ]
     },
     "execution_count": 126,
     "metadata": {},
     "output_type": "execute_result"
    }
   ],
   "source": [
    "gridSVC.best_score_"
   ]
  }
 ],
 "metadata": {
  "kernelspec": {
   "display_name": "Python 3",
   "language": "python",
   "name": "python3"
  },
  "language_info": {
   "codemirror_mode": {
    "name": "ipython",
    "version": 3
   },
   "file_extension": ".py",
   "mimetype": "text/x-python",
   "name": "python",
   "nbconvert_exporter": "python",
   "pygments_lexer": "ipython3",
   "version": "3.8.3"
  }
 },
 "nbformat": 4,
 "nbformat_minor": 4
}
