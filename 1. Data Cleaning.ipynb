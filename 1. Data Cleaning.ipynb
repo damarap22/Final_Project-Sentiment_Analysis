{
 "cells": [
  {
   "cell_type": "code",
   "execution_count": 1,
   "metadata": {
    "execution": {
     "iopub.execute_input": "2020-11-23T13:23:22.901049Z",
     "iopub.status.busy": "2020-11-23T13:23:22.901049Z",
     "iopub.status.idle": "2020-11-23T13:23:24.467039Z",
     "shell.execute_reply": "2020-11-23T13:23:24.467039Z",
     "shell.execute_reply.started": "2020-11-23T13:23:22.901049Z"
    }
   },
   "outputs": [],
   "source": [
    "import pandas as pd\n",
    "import numpy as np\n",
    "import matplotlib.pyplot as plt\n",
    "import seaborn as sns\n",
    "import spacy\n",
    "from spacy_langdetect import LanguageDetector\n",
    "%matplotlib inline\n",
    "\n",
    "sns.set_style('whitegrid')"
   ]
  },
  {
   "cell_type": "code",
   "execution_count": 2,
   "metadata": {
    "execution": {
     "iopub.execute_input": "2020-11-23T13:23:24.468031Z",
     "iopub.status.busy": "2020-11-23T13:23:24.468031Z",
     "iopub.status.idle": "2020-11-23T13:23:25.029842Z",
     "shell.execute_reply": "2020-11-23T13:23:25.029842Z",
     "shell.execute_reply.started": "2020-11-23T13:23:24.468031Z"
    }
   },
   "outputs": [],
   "source": [
    "df = pd.read_csv('Reviews.csv',parse_dates=['at'])"
   ]
  },
  {
   "cell_type": "code",
   "execution_count": 3,
   "metadata": {
    "execution": {
     "iopub.execute_input": "2020-11-23T13:23:25.031796Z",
     "iopub.status.busy": "2020-11-23T13:23:25.031796Z",
     "iopub.status.idle": "2020-11-23T13:23:25.124875Z",
     "shell.execute_reply": "2020-11-23T13:23:25.124497Z",
     "shell.execute_reply.started": "2020-11-23T13:23:25.031796Z"
    }
   },
   "outputs": [
    {
     "data": {
      "text/html": [
       "<div>\n",
       "<style scoped>\n",
       "    .dataframe tbody tr th:only-of-type {\n",
       "        vertical-align: middle;\n",
       "    }\n",
       "\n",
       "    .dataframe tbody tr th {\n",
       "        vertical-align: top;\n",
       "    }\n",
       "\n",
       "    .dataframe thead th {\n",
       "        text-align: right;\n",
       "    }\n",
       "</style>\n",
       "<table border=\"1\" class=\"dataframe\">\n",
       "  <thead>\n",
       "    <tr style=\"text-align: right;\">\n",
       "      <th></th>\n",
       "      <th>Features Name</th>\n",
       "      <th>Types</th>\n",
       "      <th>Total NaN</th>\n",
       "      <th>Total Unique Data</th>\n",
       "    </tr>\n",
       "  </thead>\n",
       "  <tbody>\n",
       "    <tr>\n",
       "      <th>0</th>\n",
       "      <td>Unnamed: 0</td>\n",
       "      <td>int64</td>\n",
       "      <td>0</td>\n",
       "      <td>34888</td>\n",
       "    </tr>\n",
       "    <tr>\n",
       "      <th>1</th>\n",
       "      <td>reviewId</td>\n",
       "      <td>object</td>\n",
       "      <td>0</td>\n",
       "      <td>24269</td>\n",
       "    </tr>\n",
       "    <tr>\n",
       "      <th>2</th>\n",
       "      <td>userName</td>\n",
       "      <td>object</td>\n",
       "      <td>2</td>\n",
       "      <td>24027</td>\n",
       "    </tr>\n",
       "    <tr>\n",
       "      <th>3</th>\n",
       "      <td>userImage</td>\n",
       "      <td>object</td>\n",
       "      <td>0</td>\n",
       "      <td>24256</td>\n",
       "    </tr>\n",
       "    <tr>\n",
       "      <th>4</th>\n",
       "      <td>content</td>\n",
       "      <td>object</td>\n",
       "      <td>0</td>\n",
       "      <td>23585</td>\n",
       "    </tr>\n",
       "    <tr>\n",
       "      <th>5</th>\n",
       "      <td>score</td>\n",
       "      <td>int64</td>\n",
       "      <td>0</td>\n",
       "      <td>5</td>\n",
       "    </tr>\n",
       "    <tr>\n",
       "      <th>6</th>\n",
       "      <td>thumbsUpCount</td>\n",
       "      <td>int64</td>\n",
       "      <td>0</td>\n",
       "      <td>159</td>\n",
       "    </tr>\n",
       "    <tr>\n",
       "      <th>7</th>\n",
       "      <td>reviewCreatedVersion</td>\n",
       "      <td>object</td>\n",
       "      <td>5173</td>\n",
       "      <td>3</td>\n",
       "    </tr>\n",
       "    <tr>\n",
       "      <th>8</th>\n",
       "      <td>at</td>\n",
       "      <td>datetime64[ns]</td>\n",
       "      <td>0</td>\n",
       "      <td>24141</td>\n",
       "    </tr>\n",
       "    <tr>\n",
       "      <th>9</th>\n",
       "      <td>replyContent</td>\n",
       "      <td>object</td>\n",
       "      <td>34857</td>\n",
       "      <td>4</td>\n",
       "    </tr>\n",
       "    <tr>\n",
       "      <th>10</th>\n",
       "      <td>repliedAt</td>\n",
       "      <td>object</td>\n",
       "      <td>34857</td>\n",
       "      <td>19</td>\n",
       "    </tr>\n",
       "    <tr>\n",
       "      <th>11</th>\n",
       "      <td>sortOrder</td>\n",
       "      <td>object</td>\n",
       "      <td>0</td>\n",
       "      <td>2</td>\n",
       "    </tr>\n",
       "    <tr>\n",
       "      <th>12</th>\n",
       "      <td>appId</td>\n",
       "      <td>object</td>\n",
       "      <td>0</td>\n",
       "      <td>1</td>\n",
       "    </tr>\n",
       "  </tbody>\n",
       "</table>\n",
       "</div>"
      ],
      "text/plain": [
       "           Features Name           Types  Total NaN  Total Unique Data\n",
       "0             Unnamed: 0           int64          0              34888\n",
       "1               reviewId          object          0              24269\n",
       "2               userName          object          2              24027\n",
       "3              userImage          object          0              24256\n",
       "4                content          object          0              23585\n",
       "5                  score           int64          0                  5\n",
       "6          thumbsUpCount           int64          0                159\n",
       "7   reviewCreatedVersion          object       5173                  3\n",
       "8                     at  datetime64[ns]          0              24141\n",
       "9           replyContent          object      34857                  4\n",
       "10             repliedAt          object      34857                 19\n",
       "11             sortOrder          object          0                  2\n",
       "12                 appId          object          0                  1"
      ]
     },
     "execution_count": 3,
     "metadata": {},
     "output_type": "execute_result"
    }
   ],
   "source": [
    "desc = []\n",
    "\n",
    "for i in df.columns:\n",
    "    desc.append([\n",
    "        i,\n",
    "        df[i].dtypes,\n",
    "        df[i].isna().sum(),\n",
    "        df[i].nunique(),\n",
    "        ])\n",
    "#     print(i)\n",
    "pd.DataFrame(desc,columns=['Features Name','Types','Total NaN','Total Unique Data'])"
   ]
  },
  {
   "cell_type": "code",
   "execution_count": 4,
   "metadata": {
    "execution": {
     "iopub.execute_input": "2020-11-23T13:23:25.125908Z",
     "iopub.status.busy": "2020-11-23T13:23:25.125908Z",
     "iopub.status.idle": "2020-11-23T13:23:25.171080Z",
     "shell.execute_reply": "2020-11-23T13:23:25.171080Z",
     "shell.execute_reply.started": "2020-11-23T13:23:25.125908Z"
    }
   },
   "outputs": [],
   "source": [
    "# Remove duplicated review sent by same user\n",
    "\n",
    "df.drop_duplicates(subset=['score','content','userName'],inplace=True)"
   ]
  },
  {
   "cell_type": "code",
   "execution_count": 5,
   "metadata": {
    "execution": {
     "iopub.execute_input": "2020-11-23T13:23:25.172115Z",
     "iopub.status.busy": "2020-11-23T13:23:25.172115Z",
     "iopub.status.idle": "2020-11-23T13:23:25.266826Z",
     "shell.execute_reply": "2020-11-23T13:23:25.265824Z",
     "shell.execute_reply.started": "2020-11-23T13:23:25.172115Z"
    }
   },
   "outputs": [],
   "source": [
    "df['reviewLength'] = df.content.apply(lambda x: len(x))\n",
    "df['wordCount'] = df.content.apply(lambda x: len(x.split()))\n",
    "\n",
    "def scoring(score):\n",
    "    if score > 3:\n",
    "        return 'Positive'\n",
    "    elif score < 3:\n",
    "        return 'Negative'\n",
    "    else:\n",
    "        return \"Neutral\"\n",
    "df['sentiment_score'] = df.score.apply(scoring)"
   ]
  },
  {
   "cell_type": "code",
   "execution_count": 6,
   "metadata": {
    "execution": {
     "iopub.execute_input": "2020-11-23T13:23:25.268884Z",
     "iopub.status.busy": "2020-11-23T13:23:25.267823Z",
     "iopub.status.idle": "2020-11-23T13:23:26.278823Z",
     "shell.execute_reply": "2020-11-23T13:23:26.278823Z",
     "shell.execute_reply.started": "2020-11-23T13:23:25.268884Z"
    }
   },
   "outputs": [],
   "source": [
    "## Language cleaning\n",
    "\n",
    "#get languages by document\n",
    "nlp = spacy.load(\"en_core_web_sm\")\n",
    "nlp.add_pipe(LanguageDetector(), name=\"language_detector\", last=True)\n",
    "    \n",
    "def get_lang_doc(text): # gets average language probability scores and returns highest-ranked language\n",
    "    doc = nlp(text)\n",
    "    return doc._.language['language']\n",
    "\n",
    "def get_langs_sent(text):\n",
    "    langs={}\n",
    "    lang_st={}\n",
    "    doc = nlp(text)\n",
    "    \n",
    "    for i, sent in enumerate(doc.sents):\n",
    "        langs[i]=sent._.language['language'] \n",
    "    \n",
    "    lang_st = list(set(langs.values())) # return all language code.\n",
    "    \n",
    "    return lang_st"
   ]
  },
  {
   "cell_type": "code",
   "execution_count": 7,
   "metadata": {
    "execution": {
     "iopub.execute_input": "2020-11-23T13:23:26.279859Z",
     "iopub.status.busy": "2020-11-23T13:23:26.279859Z",
     "iopub.status.idle": "2020-11-23T13:40:07.872392Z",
     "shell.execute_reply": "2020-11-23T13:40:07.872392Z",
     "shell.execute_reply.started": "2020-11-23T13:23:26.279859Z"
    }
   },
   "outputs": [],
   "source": [
    "df['language'] = df.content.apply(get_lang_doc)\n",
    "df['language_'] = df.content.apply(get_langs_sent)"
   ]
  },
  {
   "cell_type": "code",
   "execution_count": 8,
   "metadata": {
    "execution": {
     "iopub.execute_input": "2020-11-23T13:40:07.873348Z",
     "iopub.status.busy": "2020-11-23T13:40:07.873348Z",
     "iopub.status.idle": "2020-11-23T13:40:07.889306Z",
     "shell.execute_reply": "2020-11-23T13:40:07.888308Z",
     "shell.execute_reply.started": "2020-11-23T13:40:07.873348Z"
    }
   },
   "outputs": [],
   "source": [
    "def is_eng(x):\n",
    "    if len(x) == 1 and 'en' in x:\n",
    "        return 1\n",
    "    else:\n",
    "        return 0\n",
    "df['en_'] = df['language_'].apply(is_eng)"
   ]
  },
  {
   "cell_type": "code",
   "execution_count": 9,
   "metadata": {
    "execution": {
     "iopub.execute_input": "2020-11-23T13:40:07.890304Z",
     "iopub.status.busy": "2020-11-23T13:40:07.890304Z",
     "iopub.status.idle": "2020-11-23T13:40:07.934186Z",
     "shell.execute_reply": "2020-11-23T13:40:07.934186Z",
     "shell.execute_reply.started": "2020-11-23T13:40:07.890304Z"
    }
   },
   "outputs": [],
   "source": [
    "#We want to focus on english reviews with more than 5 words\n",
    "\n",
    "df = df[(df.en_ == 1) & (df.wordCount > 5)][['userName','at','content','sentiment_score','reviewLength','wordCount']]"
   ]
  },
  {
   "cell_type": "code",
   "execution_count": 10,
   "metadata": {
    "execution": {
     "iopub.execute_input": "2020-11-23T13:40:07.935183Z",
     "iopub.status.busy": "2020-11-23T13:40:07.935183Z",
     "iopub.status.idle": "2020-11-23T13:40:07.951140Z",
     "shell.execute_reply": "2020-11-23T13:40:07.950145Z",
     "shell.execute_reply.started": "2020-11-23T13:40:07.935183Z"
    }
   },
   "outputs": [],
   "source": [
    "#export cleaned reviews\n",
    "\n",
    "# df.to_csv('clean_reviews.csv',index=False)"
   ]
  },
  {
   "cell_type": "markdown",
   "metadata": {},
   "source": [
    "#### Next --> Data Processing"
   ]
  }
 ],
 "metadata": {
  "kernelspec": {
   "display_name": "Python 3",
   "language": "python",
   "name": "python3"
  },
  "language_info": {
   "codemirror_mode": {
    "name": "ipython",
    "version": 3
   },
   "file_extension": ".py",
   "mimetype": "text/x-python",
   "name": "python",
   "nbconvert_exporter": "python",
   "pygments_lexer": "ipython3",
   "version": "3.8.3"
  }
 },
 "nbformat": 4,
 "nbformat_minor": 4
}
