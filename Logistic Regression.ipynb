{
 "cells": [
  {
   "cell_type": "code",
   "execution_count": 7,
   "metadata": {
    "execution": {
     "iopub.execute_input": "2020-11-23T11:55:28.652261Z",
     "iopub.status.busy": "2020-11-23T11:55:28.648386Z",
     "iopub.status.idle": "2020-11-23T11:55:28.704964Z",
     "shell.execute_reply": "2020-11-23T11:55:28.703988Z",
     "shell.execute_reply.started": "2020-11-23T11:55:28.651284Z"
    }
   },
   "outputs": [
    {
     "name": "stderr",
     "output_type": "stream",
     "text": [
      "<ipython-input-7-8a27805779f6>:12: FutureWarning: Passing a negative integer is deprecated in version 1.0 and will not be supported in future version. Instead, use None to not limit the column width.\n",
      "  pd.set_option('display.max_colwidth', -1)\n"
     ]
    }
   ],
   "source": [
    "import pandas as pd\n",
    "import re\n",
    "import spacy\n",
    "import json\n",
    "import string\n",
    "from spacy.lang.en.stop_words import STOP_WORDS\n",
    "from sklearn.utils import resample\n",
    "from sklearn.feature_extraction.text import CountVectorizer, TfidfVectorizer\n",
    "from sklearn.linear_model import LogisticRegression\n",
    "from sklearn.model_selection import train_test_split, GridSearchCV\n",
    "from sklearn.metrics import recall_score, classification_report, confusion_matrix\n",
    "pd.set_option('display.max_colwidth', -1)"
   ]
  },
  {
   "cell_type": "code",
   "execution_count": 8,
   "metadata": {
    "execution": {
     "iopub.execute_input": "2020-11-23T11:55:28.706915Z",
     "iopub.status.busy": "2020-11-23T11:55:28.706915Z",
     "iopub.status.idle": "2020-11-23T11:55:29.264431Z",
     "shell.execute_reply": "2020-11-23T11:55:29.263453Z",
     "shell.execute_reply.started": "2020-11-23T11:55:28.706915Z"
    }
   },
   "outputs": [],
   "source": [
    "data = pd.read_csv('bigram.csv')"
   ]
  },
  {
   "cell_type": "markdown",
   "metadata": {},
   "source": [
    "# Token"
   ]
  },
  {
   "cell_type": "code",
   "execution_count": 9,
   "metadata": {
    "execution": {
     "iopub.execute_input": "2020-11-23T11:55:29.266408Z",
     "iopub.status.busy": "2020-11-23T11:55:29.265407Z",
     "iopub.status.idle": "2020-11-23T11:55:31.355577Z",
     "shell.execute_reply": "2020-11-23T11:55:31.355577Z",
     "shell.execute_reply.started": "2020-11-23T11:55:29.266408Z"
    }
   },
   "outputs": [],
   "source": [
    "with open('cont_en.json') as file:\n",
    "    contEn = json.load(file)\n",
    "    \n",
    "c_re = re.compile('(%s)' % '|'.join(contEn.keys()))\n",
    "\n",
    "def expandContractions(text, c_re=c_re):         # expanding contractiion into full form word. ex: won't -> will not\n",
    "    def replace(match):\n",
    "        return contEn[match.group(0)]\n",
    "    return c_re.sub(replace, text.lower())\n",
    "\n",
    "def stars(text):\n",
    "    if '*' in text:\n",
    "        word = text.replace('*',' stars') # replacing * symbol with \"star\"\n",
    "    else:\n",
    "        word = text\n",
    "    return word\n",
    "\n",
    "def num2word(text):                        #convert number to string\n",
    "    if len(text) == 1 and text in '12345':\n",
    "        if text == '1':\n",
    "            word = 'one'\n",
    "        elif text == '2':\n",
    "            word = 'two'\n",
    "        elif text == '3':\n",
    "            word = 'three'\n",
    "        elif text == '4':\n",
    "            word = 'four'\n",
    "        elif text == '5':\n",
    "            word = 'five'\n",
    "        else:\n",
    "            word = text\n",
    "    else:\n",
    "        word = text\n",
    "    return word\n",
    "\n",
    "def lemma(word):\n",
    "    lemma_doc = nlp(\" \".join(word)) \n",
    "    lemma_text = [token.text if '_' in token.text else token.lemma_ for token in lemma_doc]\n",
    "    return lemma_text\n",
    "\n",
    "nlp = spacy.load(\"en_core_web_sm\")\n",
    "\n",
    "nlp.Defaults.stop_words -= {\"one\", \"two\",\"three\",\"four\",\"five\"} #removing these word from stop_word\n",
    "stopword = list(STOP_WORDS)\n",
    "\n",
    "stopword2 = stopword\n",
    "stopword2.extend(['good'])"
   ]
  },
  {
   "cell_type": "code",
   "execution_count": 10,
   "metadata": {
    "execution": {
     "iopub.execute_input": "2020-11-23T11:55:31.357524Z",
     "iopub.status.busy": "2020-11-23T11:55:31.357524Z",
     "iopub.status.idle": "2020-11-23T11:55:31.366312Z",
     "shell.execute_reply": "2020-11-23T11:55:31.365336Z",
     "shell.execute_reply.started": "2020-11-23T11:55:31.357524Z"
    }
   },
   "outputs": [],
   "source": [
    "def clean_text(text):\n",
    "    text = stars(text)\n",
    "    text = expandContractions(text)\n",
    "    text = re.split(r'\\W+',text)\n",
    "    text = [num2word(x) for x in text]\n",
    "    text = [x for x in text if x not in string.punctuation]\n",
    "    text = [\"have\" if x == \"ve\" else x for x in text]\n",
    "    text = [\"game\" if x == \"games\" else x for x in text]\n",
    "    text = [\"phone\" if x == \"mobile\" else x for x in text]\n",
    "    text = ' '.join(text).replace('one one','1.1').split()\n",
    "    text = [x for x in text if x not in stopword2 and len(x) > 1 and len(x) <= 45]\n",
    "    return text\n",
    "\n",
    "def tokenizer(bow):\n",
    "    text = clean_text(bow)\n",
    "    text = lemma(text) #,allowed_postags=['NOUN','VERB']\n",
    "    return text"
   ]
  },
  {
   "cell_type": "markdown",
   "metadata": {},
   "source": [
    "# Oversampling"
   ]
  },
  {
   "cell_type": "code",
   "execution_count": 11,
   "metadata": {
    "execution": {
     "iopub.execute_input": "2020-11-23T11:55:31.368262Z",
     "iopub.status.busy": "2020-11-23T11:55:31.368262Z",
     "iopub.status.idle": "2020-11-23T11:55:31.386808Z",
     "shell.execute_reply": "2020-11-23T11:55:31.385830Z",
     "shell.execute_reply.started": "2020-11-23T11:55:31.368262Z"
    }
   },
   "outputs": [],
   "source": [
    "pos = data[data.sentiment_score == \"Positive\"]\n",
    "neu = data[data.sentiment_score == \"Neutral\"]\n",
    "neg = data[data.sentiment_score == \"Negative\"]"
   ]
  },
  {
   "cell_type": "code",
   "execution_count": 12,
   "metadata": {
    "execution": {
     "iopub.execute_input": "2020-11-23T11:55:31.388758Z",
     "iopub.status.busy": "2020-11-23T11:55:31.387785Z",
     "iopub.status.idle": "2020-11-23T11:55:31.405350Z",
     "shell.execute_reply": "2020-11-23T11:55:31.404375Z",
     "shell.execute_reply.started": "2020-11-23T11:55:31.388758Z"
    }
   },
   "outputs": [],
   "source": [
    "neuOS = resample(neu, n_samples = len(pos), random_state=42)\n",
    "negOS = resample(neg, n_samples = len(pos), random_state=42)"
   ]
  },
  {
   "cell_type": "code",
   "execution_count": 13,
   "metadata": {
    "execution": {
     "iopub.execute_input": "2020-11-23T11:55:31.406327Z",
     "iopub.status.busy": "2020-11-23T11:55:31.406327Z",
     "iopub.status.idle": "2020-11-23T11:55:31.424893Z",
     "shell.execute_reply": "2020-11-23T11:55:31.424893Z",
     "shell.execute_reply.started": "2020-11-23T11:55:31.406327Z"
    }
   },
   "outputs": [],
   "source": [
    "dataOS = pd.concat([pos,neuOS,negOS],axis=0)"
   ]
  },
  {
   "cell_type": "markdown",
   "metadata": {},
   "source": [
    "# Model Selection"
   ]
  },
  {
   "cell_type": "code",
   "execution_count": 14,
   "metadata": {
    "execution": {
     "iopub.execute_input": "2020-11-23T11:55:31.425845Z",
     "iopub.status.busy": "2020-11-23T11:55:31.425845Z",
     "iopub.status.idle": "2020-11-23T11:55:31.430725Z",
     "shell.execute_reply": "2020-11-23T11:55:31.429755Z",
     "shell.execute_reply.started": "2020-11-23T11:55:31.425845Z"
    }
   },
   "outputs": [],
   "source": [
    "x = dataOS['content']\n",
    "y = dataOS['sentiment_score']"
   ]
  },
  {
   "cell_type": "code",
   "execution_count": 15,
   "metadata": {
    "execution": {
     "iopub.execute_input": "2020-11-23T11:55:31.436584Z",
     "iopub.status.busy": "2020-11-23T11:55:31.435607Z",
     "iopub.status.idle": "2020-11-23T11:55:31.447332Z",
     "shell.execute_reply": "2020-11-23T11:55:31.444390Z",
     "shell.execute_reply.started": "2020-11-23T11:55:31.436584Z"
    }
   },
   "outputs": [],
   "source": [
    "cv = TfidfVectorizer(tokenizer=tokenizer, stop_words=stopword, ngram_range=(1,3))"
   ]
  },
  {
   "cell_type": "code",
   "execution_count": 16,
   "metadata": {
    "execution": {
     "iopub.execute_input": "2020-11-23T11:55:34.554208Z",
     "iopub.status.busy": "2020-11-23T11:55:34.554208Z",
     "iopub.status.idle": "2020-11-23T11:55:34.581111Z",
     "shell.execute_reply": "2020-11-23T11:55:34.580129Z",
     "shell.execute_reply.started": "2020-11-23T11:55:34.554208Z"
    }
   },
   "outputs": [],
   "source": [
    "xtrain,xtest,ytrain,ytest = train_test_split(x,y,train_size=.7, random_state = 42, stratify = y)"
   ]
  },
  {
   "cell_type": "markdown",
   "metadata": {},
   "source": [
    "# Pipeline"
   ]
  },
  {
   "cell_type": "code",
   "execution_count": 15,
   "metadata": {
    "execution": {
     "iopub.execute_input": "2020-11-22T02:13:58.482410Z",
     "iopub.status.busy": "2020-11-22T02:13:58.482410Z",
     "iopub.status.idle": "2020-11-22T02:13:58.498334Z",
     "shell.execute_reply": "2020-11-22T02:13:58.497349Z",
     "shell.execute_reply.started": "2020-11-22T02:13:58.482410Z"
    }
   },
   "outputs": [],
   "source": [
    "from sklearn.pipeline import make_pipeline"
   ]
  },
  {
   "cell_type": "code",
   "execution_count": 16,
   "metadata": {
    "execution": {
     "iopub.execute_input": "2020-11-22T02:13:58.499332Z",
     "iopub.status.busy": "2020-11-22T02:13:58.499332Z",
     "iopub.status.idle": "2020-11-22T02:13:58.514302Z",
     "shell.execute_reply": "2020-11-22T02:13:58.512328Z",
     "shell.execute_reply.started": "2020-11-22T02:13:58.499332Z"
    }
   },
   "outputs": [],
   "source": [
    "lrpipe = make_pipeline(cv,LogisticRegression(verbose=1, n_jobs=-1))"
   ]
  },
  {
   "cell_type": "code",
   "execution_count": 17,
   "metadata": {
    "execution": {
     "iopub.execute_input": "2020-11-22T02:13:58.515289Z",
     "iopub.status.busy": "2020-11-22T02:13:58.515289Z",
     "iopub.status.idle": "2020-11-22T02:15:46.205593Z",
     "shell.execute_reply": "2020-11-22T02:15:46.205593Z",
     "shell.execute_reply.started": "2020-11-22T02:13:58.515289Z"
    }
   },
   "outputs": [
    {
     "name": "stderr",
     "output_type": "stream",
     "text": [
      "[Parallel(n_jobs=-1)]: Using backend LokyBackend with 12 concurrent workers.\n",
      "[Parallel(n_jobs=-1)]: Done   1 out of   1 | elapsed:   11.7s finished\n"
     ]
    },
    {
     "data": {
      "text/plain": [
       "Pipeline(steps=[('tfidfvectorizer',\n",
       "                 TfidfVectorizer(ngram_range=(1, 3),\n",
       "                                 stop_words=['always', 'unless', 'could', 'the',\n",
       "                                             'doing', 'above', 'that',\n",
       "                                             'thereupon', 'hence', 'please',\n",
       "                                             'whole', 'as', 'ours', 'off',\n",
       "                                             'amongst', '’ll', 'whither', 'our',\n",
       "                                             '‘m', 'once', 'well', 'has',\n",
       "                                             'would', 'other', 'every',\n",
       "                                             'almost', 'must', 'amount', 'here',\n",
       "                                             'moreover', ...],\n",
       "                                 tokenizer=<function tokenizer at 0x000001ADD253E0D0>)),\n",
       "                ('logisticregression',\n",
       "                 LogisticRegression(n_jobs=-1, verbose=1))])"
      ]
     },
     "execution_count": 17,
     "metadata": {},
     "output_type": "execute_result"
    }
   ],
   "source": [
    "lrpipe.fit(xtrain,ytrain)"
   ]
  },
  {
   "cell_type": "code",
   "execution_count": 18,
   "metadata": {
    "execution": {
     "iopub.execute_input": "2020-11-22T02:15:46.206626Z",
     "iopub.status.busy": "2020-11-22T02:15:46.206626Z",
     "iopub.status.idle": "2020-11-22T02:16:25.963386Z",
     "shell.execute_reply": "2020-11-22T02:16:25.962605Z",
     "shell.execute_reply.started": "2020-11-22T02:15:46.206626Z"
    }
   },
   "outputs": [],
   "source": [
    "ypred = lrpipe.predict(xtest)"
   ]
  },
  {
   "cell_type": "code",
   "execution_count": 19,
   "metadata": {
    "execution": {
     "iopub.execute_input": "2020-11-22T02:16:25.964386Z",
     "iopub.status.busy": "2020-11-22T02:16:25.963386Z",
     "iopub.status.idle": "2020-11-22T02:16:26.074678Z",
     "shell.execute_reply": "2020-11-22T02:16:26.073870Z",
     "shell.execute_reply.started": "2020-11-22T02:16:25.964386Z"
    }
   },
   "outputs": [
    {
     "name": "stdout",
     "output_type": "stream",
     "text": [
      "              precision    recall  f1-score   support\n",
      "\n",
      "    Negative       0.84      0.84      0.84      2146\n",
      "     Neutral       0.81      0.84      0.82      2147\n",
      "    Positive       0.83      0.79      0.81      2147\n",
      "\n",
      "    accuracy                           0.82      6440\n",
      "   macro avg       0.82      0.82      0.82      6440\n",
      "weighted avg       0.82      0.82      0.82      6440\n",
      "\n"
     ]
    }
   ],
   "source": [
    "print(classification_report(ytest,ypred))"
   ]
  },
  {
   "cell_type": "code",
   "execution_count": 20,
   "metadata": {
    "execution": {
     "iopub.execute_input": "2020-11-22T02:16:26.074678Z",
     "iopub.status.busy": "2020-11-22T02:16:26.074678Z",
     "iopub.status.idle": "2020-11-22T02:16:26.089301Z",
     "shell.execute_reply": "2020-11-22T02:16:26.089301Z",
     "shell.execute_reply.started": "2020-11-22T02:16:26.074678Z"
    }
   },
   "outputs": [],
   "source": [
    "lab = ['Positive','Negative','Neutral']"
   ]
  },
  {
   "cell_type": "code",
   "execution_count": 21,
   "metadata": {
    "execution": {
     "iopub.execute_input": "2020-11-22T02:16:26.090273Z",
     "iopub.status.busy": "2020-11-22T02:16:26.090273Z",
     "iopub.status.idle": "2020-11-22T02:16:26.120194Z",
     "shell.execute_reply": "2020-11-22T02:16:26.120194Z",
     "shell.execute_reply.started": "2020-11-22T02:16:26.090273Z"
    }
   },
   "outputs": [
    {
     "data": {
      "text/html": [
       "<div>\n",
       "<style scoped>\n",
       "    .dataframe tbody tr th:only-of-type {\n",
       "        vertical-align: middle;\n",
       "    }\n",
       "\n",
       "    .dataframe tbody tr th {\n",
       "        vertical-align: top;\n",
       "    }\n",
       "\n",
       "    .dataframe thead th {\n",
       "        text-align: right;\n",
       "    }\n",
       "</style>\n",
       "<table border=\"1\" class=\"dataframe\">\n",
       "  <thead>\n",
       "    <tr style=\"text-align: right;\">\n",
       "      <th></th>\n",
       "      <th>Positive</th>\n",
       "      <th>Negative</th>\n",
       "      <th>Neutral</th>\n",
       "    </tr>\n",
       "  </thead>\n",
       "  <tbody>\n",
       "    <tr>\n",
       "      <th>Positive</th>\n",
       "      <td>1698</td>\n",
       "      <td>194</td>\n",
       "      <td>255</td>\n",
       "    </tr>\n",
       "    <tr>\n",
       "      <th>Negative</th>\n",
       "      <td>170</td>\n",
       "      <td>1793</td>\n",
       "      <td>183</td>\n",
       "    </tr>\n",
       "    <tr>\n",
       "      <th>Neutral</th>\n",
       "      <td>186</td>\n",
       "      <td>152</td>\n",
       "      <td>1809</td>\n",
       "    </tr>\n",
       "  </tbody>\n",
       "</table>\n",
       "</div>"
      ],
      "text/plain": [
       "          Positive  Negative  Neutral\n",
       "Positive  1698      194       255    \n",
       "Negative  170       1793      183    \n",
       "Neutral   186       152       1809   "
      ]
     },
     "execution_count": 21,
     "metadata": {},
     "output_type": "execute_result"
    }
   ],
   "source": [
    "cm = confusion_matrix(ytest,ypred,labels=lab)\n",
    "pd.DataFrame(cm, columns=lab,index=lab)"
   ]
  },
  {
   "cell_type": "code",
   "execution_count": 22,
   "metadata": {
    "execution": {
     "iopub.execute_input": "2020-11-22T02:16:26.121190Z",
     "iopub.status.busy": "2020-11-22T02:16:26.121190Z",
     "iopub.status.idle": "2020-11-22T02:16:26.150147Z",
     "shell.execute_reply": "2020-11-22T02:16:26.150147Z",
     "shell.execute_reply.started": "2020-11-22T02:16:26.121190Z"
    }
   },
   "outputs": [
    {
     "data": {
      "text/plain": [
       "array(['Neutral'], dtype=object)"
      ]
     },
     "execution_count": 22,
     "metadata": {},
     "output_type": "execute_result"
    }
   ],
   "source": [
    "text = ['This is an okay game. Not bad at all']\n",
    "lrpipe.predict(text)"
   ]
  },
  {
   "cell_type": "code",
   "execution_count": 23,
   "metadata": {
    "execution": {
     "iopub.execute_input": "2020-11-22T02:16:26.151110Z",
     "iopub.status.busy": "2020-11-22T02:16:26.151110Z",
     "iopub.status.idle": "2020-11-22T02:16:26.182062Z",
     "shell.execute_reply": "2020-11-22T02:16:26.182062Z",
     "shell.execute_reply.started": "2020-11-22T02:16:26.151110Z"
    }
   },
   "outputs": [
    {
     "data": {
      "text/plain": [
       "array([[0.39820669, 0.49280325, 0.10899006]])"
      ]
     },
     "execution_count": 23,
     "metadata": {},
     "output_type": "execute_result"
    }
   ],
   "source": [
    "lrpipe.predict_proba(text)"
   ]
  },
  {
   "cell_type": "markdown",
   "metadata": {},
   "source": [
    "# Hyper Parameter Tuning"
   ]
  },
  {
   "cell_type": "markdown",
   "metadata": {},
   "source": [
    "#### Note:\n",
    "penalty : {'l1', 'l2', 'elasticnet', 'none'}, default='l2'\n",
    "    Used to specify the norm used in the penalization. The 'newton-cg',\n",
    "    'sag' and 'lbfgs' solvers support only l2 penalties. 'elasticnet' is\n",
    "    only supported by the 'saga' solver. If 'none' (not supported by the\n",
    "    liblinear solver), no regularization is applied."
   ]
  },
  {
   "cell_type": "code",
   "execution_count": 33,
   "metadata": {
    "execution": {
     "iopub.execute_input": "2020-11-22T02:36:05.775923Z",
     "iopub.status.busy": "2020-11-22T02:36:05.775923Z",
     "iopub.status.idle": "2020-11-22T02:36:05.789920Z",
     "shell.execute_reply": "2020-11-22T02:36:05.789920Z",
     "shell.execute_reply.started": "2020-11-22T02:36:05.775923Z"
    }
   },
   "outputs": [],
   "source": [
    "logisticregression__C = [1.0, 0.5, 1.5]\n",
    "logisticregression__solver = ['lbfgs', 'newton-cg', 'sag']\n",
    "logisticregression__penalty = ['l2']"
   ]
  },
  {
   "cell_type": "code",
   "execution_count": 34,
   "metadata": {
    "execution": {
     "iopub.execute_input": "2020-11-22T02:36:06.599607Z",
     "iopub.status.busy": "2020-11-22T02:36:06.599607Z",
     "iopub.status.idle": "2020-11-22T03:18:10.075072Z",
     "shell.execute_reply": "2020-11-22T03:18:10.074223Z",
     "shell.execute_reply.started": "2020-11-22T02:36:06.599607Z"
    }
   },
   "outputs": [
    {
     "name": "stdout",
     "output_type": "stream",
     "text": [
      "Now running C 1.0, solver lbfgs, penalty l2\n",
      "Fitting 4 folds for each of 1 candidates, totalling 4 fits\n"
     ]
    },
    {
     "name": "stderr",
     "output_type": "stream",
     "text": [
      "[Parallel(n_jobs=-1)]: Using backend LokyBackend with 12 concurrent workers.\n",
      "[Parallel(n_jobs=-1)]: Done   4 out of   4 | elapsed:  2.7min finished\n",
      "[Parallel(n_jobs=-1)]: Using backend LokyBackend with 12 concurrent workers.\n",
      "[Parallel(n_jobs=-1)]: Done   1 out of   1 | elapsed:   11.2s finished\n"
     ]
    },
    {
     "name": "stdout",
     "output_type": "stream",
     "text": [
      "================\n",
      "Now running C 1.0, solver newton-cg, penalty l2\n",
      "Fitting 4 folds for each of 1 candidates, totalling 4 fits\n"
     ]
    },
    {
     "name": "stderr",
     "output_type": "stream",
     "text": [
      "[Parallel(n_jobs=-1)]: Using backend LokyBackend with 12 concurrent workers.\n",
      "[Parallel(n_jobs=-1)]: Done   4 out of   4 | elapsed:  2.4min finished\n",
      "[Parallel(n_jobs=-1)]: Using backend LokyBackend with 12 concurrent workers.\n",
      "[Parallel(n_jobs=-1)]: Done   1 out of   1 | elapsed:    3.9s finished\n"
     ]
    },
    {
     "name": "stdout",
     "output_type": "stream",
     "text": [
      "================\n",
      "Now running C 1.0, solver sag, penalty l2\n",
      "Fitting 4 folds for each of 1 candidates, totalling 4 fits\n"
     ]
    },
    {
     "name": "stderr",
     "output_type": "stream",
     "text": [
      "[Parallel(n_jobs=-1)]: Using backend LokyBackend with 12 concurrent workers.\n",
      "[Parallel(n_jobs=-1)]: Done   4 out of   4 | elapsed:  2.2min finished\n",
      "[Parallel(n_jobs=-1)]: Using backend ThreadingBackend with 12 concurrent workers.\n"
     ]
    },
    {
     "name": "stdout",
     "output_type": "stream",
     "text": [
      "convergence after 20 epochs took 0 seconds\n"
     ]
    },
    {
     "name": "stderr",
     "output_type": "stream",
     "text": [
      "[Parallel(n_jobs=-1)]: Done   1 out of   1 | elapsed:    0.5s finished\n"
     ]
    },
    {
     "name": "stdout",
     "output_type": "stream",
     "text": [
      "================\n",
      "Now running C 0.5, solver lbfgs, penalty l2\n",
      "Fitting 4 folds for each of 1 candidates, totalling 4 fits\n"
     ]
    },
    {
     "name": "stderr",
     "output_type": "stream",
     "text": [
      "[Parallel(n_jobs=-1)]: Using backend LokyBackend with 12 concurrent workers.\n",
      "[Parallel(n_jobs=-1)]: Done   4 out of   4 | elapsed:  2.6min finished\n",
      "[Parallel(n_jobs=-1)]: Using backend LokyBackend with 12 concurrent workers.\n",
      "[Parallel(n_jobs=-1)]: Done   1 out of   1 | elapsed:   10.3s finished\n"
     ]
    },
    {
     "name": "stdout",
     "output_type": "stream",
     "text": [
      "================\n",
      "Now running C 0.5, solver newton-cg, penalty l2\n",
      "Fitting 4 folds for each of 1 candidates, totalling 4 fits\n"
     ]
    },
    {
     "name": "stderr",
     "output_type": "stream",
     "text": [
      "[Parallel(n_jobs=-1)]: Using backend LokyBackend with 12 concurrent workers.\n",
      "[Parallel(n_jobs=-1)]: Done   4 out of   4 | elapsed:  2.3min finished\n",
      "[Parallel(n_jobs=-1)]: Using backend LokyBackend with 12 concurrent workers.\n",
      "[Parallel(n_jobs=-1)]: Done   1 out of   1 | elapsed:    3.1s finished\n"
     ]
    },
    {
     "name": "stdout",
     "output_type": "stream",
     "text": [
      "================\n",
      "Now running C 0.5, solver sag, penalty l2\n",
      "Fitting 4 folds for each of 1 candidates, totalling 4 fits\n"
     ]
    },
    {
     "name": "stderr",
     "output_type": "stream",
     "text": [
      "[Parallel(n_jobs=-1)]: Using backend LokyBackend with 12 concurrent workers.\n",
      "[Parallel(n_jobs=-1)]: Done   4 out of   4 | elapsed:  2.2min finished\n",
      "[Parallel(n_jobs=-1)]: Using backend ThreadingBackend with 12 concurrent workers.\n"
     ]
    },
    {
     "name": "stdout",
     "output_type": "stream",
     "text": [
      "convergence after 19 epochs took 1 seconds\n"
     ]
    },
    {
     "name": "stderr",
     "output_type": "stream",
     "text": [
      "[Parallel(n_jobs=-1)]: Done   1 out of   1 | elapsed:    0.5s finished\n"
     ]
    },
    {
     "name": "stdout",
     "output_type": "stream",
     "text": [
      "================\n",
      "Now running C 1.5, solver lbfgs, penalty l2\n",
      "Fitting 4 folds for each of 1 candidates, totalling 4 fits\n"
     ]
    },
    {
     "name": "stderr",
     "output_type": "stream",
     "text": [
      "[Parallel(n_jobs=-1)]: Using backend LokyBackend with 12 concurrent workers.\n",
      "[Parallel(n_jobs=-1)]: Done   4 out of   4 | elapsed:  2.7min finished\n",
      "[Parallel(n_jobs=-1)]: Using backend LokyBackend with 12 concurrent workers.\n",
      "[Parallel(n_jobs=-1)]: Done   1 out of   1 | elapsed:   11.2s finished\n"
     ]
    },
    {
     "name": "stdout",
     "output_type": "stream",
     "text": [
      "================\n",
      "Now running C 1.5, solver newton-cg, penalty l2\n",
      "Fitting 4 folds for each of 1 candidates, totalling 4 fits\n"
     ]
    },
    {
     "name": "stderr",
     "output_type": "stream",
     "text": [
      "[Parallel(n_jobs=-1)]: Using backend LokyBackend with 12 concurrent workers.\n",
      "[Parallel(n_jobs=-1)]: Done   4 out of   4 | elapsed:  2.3min finished\n",
      "[Parallel(n_jobs=-1)]: Using backend LokyBackend with 12 concurrent workers.\n",
      "[Parallel(n_jobs=-1)]: Done   1 out of   1 | elapsed:    3.3s finished\n"
     ]
    },
    {
     "name": "stdout",
     "output_type": "stream",
     "text": [
      "================\n",
      "Now running C 1.5, solver sag, penalty l2\n",
      "Fitting 4 folds for each of 1 candidates, totalling 4 fits\n"
     ]
    },
    {
     "name": "stderr",
     "output_type": "stream",
     "text": [
      "[Parallel(n_jobs=-1)]: Using backend LokyBackend with 12 concurrent workers.\n",
      "[Parallel(n_jobs=-1)]: Done   4 out of   4 | elapsed:  2.2min finished\n",
      "[Parallel(n_jobs=-1)]: Using backend ThreadingBackend with 12 concurrent workers.\n"
     ]
    },
    {
     "name": "stdout",
     "output_type": "stream",
     "text": [
      "convergence after 24 epochs took 1 seconds\n"
     ]
    },
    {
     "name": "stderr",
     "output_type": "stream",
     "text": [
      "[Parallel(n_jobs=-1)]: Done   1 out of   1 | elapsed:    0.7s finished\n"
     ]
    },
    {
     "name": "stdout",
     "output_type": "stream",
     "text": [
      "================\n"
     ]
    }
   ],
   "source": [
    "score = []\n",
    "for C in logisticregression__C:\n",
    "    for solver in logisticregression__solver:\n",
    "        for penalty in logisticregression__penalty:\n",
    "            print(f'Now running C {C}, solver {solver}, penalty {penalty}')\n",
    "            params = {\n",
    "                        'logisticregression__C': [C],\n",
    "                        'logisticregression__solver': [solver],\n",
    "                        'logisticregression__penalty': [penalty]\n",
    "                    }\n",
    "            gridLR = GridSearchCV(estimator=lrpipe, param_grid=params, cv=4, verbose=1, n_jobs=-1)\n",
    "            gridLR.fit(xtrain,ytrain)\n",
    "            ygrid = gridLR.predict(xtest)\n",
    "            recall = recall_score(ytest,ygrid,average='macro')\n",
    "            score.append([C,solver,penalty,recall])\n",
    "            print('================')"
   ]
  },
  {
   "cell_type": "code",
   "execution_count": 35,
   "metadata": {
    "execution": {
     "iopub.execute_input": "2020-11-22T03:18:10.076071Z",
     "iopub.status.busy": "2020-11-22T03:18:10.075072Z",
     "iopub.status.idle": "2020-11-22T03:18:10.105030Z",
     "shell.execute_reply": "2020-11-22T03:18:10.105030Z",
     "shell.execute_reply.started": "2020-11-22T03:18:10.076071Z"
    }
   },
   "outputs": [
    {
     "data": {
      "text/html": [
       "<div>\n",
       "<style scoped>\n",
       "    .dataframe tbody tr th:only-of-type {\n",
       "        vertical-align: middle;\n",
       "    }\n",
       "\n",
       "    .dataframe tbody tr th {\n",
       "        vertical-align: top;\n",
       "    }\n",
       "\n",
       "    .dataframe thead th {\n",
       "        text-align: right;\n",
       "    }\n",
       "</style>\n",
       "<table border=\"1\" class=\"dataframe\">\n",
       "  <thead>\n",
       "    <tr style=\"text-align: right;\">\n",
       "      <th></th>\n",
       "      <th>C</th>\n",
       "      <th>solver</th>\n",
       "      <th>penalty</th>\n",
       "      <th>recall</th>\n",
       "    </tr>\n",
       "  </thead>\n",
       "  <tbody>\n",
       "    <tr>\n",
       "      <th>0</th>\n",
       "      <td>1.0</td>\n",
       "      <td>lbfgs</td>\n",
       "      <td>l2</td>\n",
       "      <td>0.822983</td>\n",
       "    </tr>\n",
       "    <tr>\n",
       "      <th>1</th>\n",
       "      <td>1.0</td>\n",
       "      <td>newton-cg</td>\n",
       "      <td>l2</td>\n",
       "      <td>0.822983</td>\n",
       "    </tr>\n",
       "    <tr>\n",
       "      <th>2</th>\n",
       "      <td>1.0</td>\n",
       "      <td>sag</td>\n",
       "      <td>l2</td>\n",
       "      <td>0.822983</td>\n",
       "    </tr>\n",
       "    <tr>\n",
       "      <th>3</th>\n",
       "      <td>0.5</td>\n",
       "      <td>lbfgs</td>\n",
       "      <td>l2</td>\n",
       "      <td>0.793325</td>\n",
       "    </tr>\n",
       "    <tr>\n",
       "      <th>4</th>\n",
       "      <td>0.5</td>\n",
       "      <td>newton-cg</td>\n",
       "      <td>l2</td>\n",
       "      <td>0.793325</td>\n",
       "    </tr>\n",
       "    <tr>\n",
       "      <th>5</th>\n",
       "      <td>0.5</td>\n",
       "      <td>sag</td>\n",
       "      <td>l2</td>\n",
       "      <td>0.793325</td>\n",
       "    </tr>\n",
       "    <tr>\n",
       "      <th>6</th>\n",
       "      <td>1.5</td>\n",
       "      <td>lbfgs</td>\n",
       "      <td>l2</td>\n",
       "      <td>0.836026</td>\n",
       "    </tr>\n",
       "    <tr>\n",
       "      <th>7</th>\n",
       "      <td>1.5</td>\n",
       "      <td>newton-cg</td>\n",
       "      <td>l2</td>\n",
       "      <td>0.835871</td>\n",
       "    </tr>\n",
       "    <tr>\n",
       "      <th>8</th>\n",
       "      <td>1.5</td>\n",
       "      <td>sag</td>\n",
       "      <td>l2</td>\n",
       "      <td>0.835871</td>\n",
       "    </tr>\n",
       "  </tbody>\n",
       "</table>\n",
       "</div>"
      ],
      "text/plain": [
       "     C     solver penalty    recall\n",
       "0  1.0  lbfgs      l2      0.822983\n",
       "1  1.0  newton-cg  l2      0.822983\n",
       "2  1.0  sag        l2      0.822983\n",
       "3  0.5  lbfgs      l2      0.793325\n",
       "4  0.5  newton-cg  l2      0.793325\n",
       "5  0.5  sag        l2      0.793325\n",
       "6  1.5  lbfgs      l2      0.836026\n",
       "7  1.5  newton-cg  l2      0.835871\n",
       "8  1.5  sag        l2      0.835871"
      ]
     },
     "execution_count": 35,
     "metadata": {},
     "output_type": "execute_result"
    }
   ],
   "source": [
    "pd.DataFrame(score, columns=['C','solver','penalty','recall'])"
   ]
  },
  {
   "cell_type": "markdown",
   "metadata": {},
   "source": [
    "### Best Model LR Parameter: C=1.5, Solver=lbfgs, penalty=l2"
   ]
  },
  {
   "cell_type": "code",
   "execution_count": 36,
   "metadata": {
    "execution": {
     "iopub.execute_input": "2020-11-22T03:19:50.273941Z",
     "iopub.status.busy": "2020-11-22T03:19:50.273941Z",
     "iopub.status.idle": "2020-11-22T03:25:08.918441Z",
     "shell.execute_reply": "2020-11-22T03:25:08.918441Z",
     "shell.execute_reply.started": "2020-11-22T03:19:50.273941Z"
    }
   },
   "outputs": [
    {
     "name": "stdout",
     "output_type": "stream",
     "text": [
      "Fitting 4 folds for each of 1 candidates, totalling 4 fits\n"
     ]
    },
    {
     "name": "stderr",
     "output_type": "stream",
     "text": [
      "[Parallel(n_jobs=-1)]: Using backend LokyBackend with 12 concurrent workers.\n",
      "[Parallel(n_jobs=-1)]: Done   4 out of   4 | elapsed:  2.9min finished\n",
      "[Parallel(n_jobs=-1)]: Using backend LokyBackend with 12 concurrent workers.\n",
      "[Parallel(n_jobs=-1)]: Done   1 out of   1 | elapsed:   11.7s finished\n"
     ]
    }
   ],
   "source": [
    "params = {\n",
    "        'logisticregression__C': [1.5],\n",
    "        'logisticregression__solver': ['lbfgs'],\n",
    "        'logisticregression__penalty': ['l2']}\n",
    "gridLR = GridSearchCV(estimator=lrpipe, param_grid=params, cv=4, verbose=1, n_jobs=-1)\n",
    "gridLR.fit(xtrain,ytrain)\n",
    "ygrid = gridLR.predict(xtest)"
   ]
  },
  {
   "cell_type": "code",
   "execution_count": 37,
   "metadata": {
    "execution": {
     "iopub.execute_input": "2020-11-22T03:25:08.919438Z",
     "iopub.status.busy": "2020-11-22T03:25:08.919438Z",
     "iopub.status.idle": "2020-11-22T03:25:09.029146Z",
     "shell.execute_reply": "2020-11-22T03:25:09.028148Z",
     "shell.execute_reply.started": "2020-11-22T03:25:08.919438Z"
    }
   },
   "outputs": [
    {
     "name": "stdout",
     "output_type": "stream",
     "text": [
      "              precision    recall  f1-score   support\n",
      "\n",
      "    Negative       0.85      0.84      0.84      2146\n",
      "     Neutral       0.82      0.86      0.84      2147\n",
      "    Positive       0.85      0.80      0.82      2147\n",
      "\n",
      "    accuracy                           0.84      6440\n",
      "   macro avg       0.84      0.84      0.84      6440\n",
      "weighted avg       0.84      0.84      0.84      6440\n",
      "\n"
     ]
    }
   ],
   "source": [
    "print(classification_report(ytest,ygrid))"
   ]
  },
  {
   "cell_type": "code",
   "execution_count": 38,
   "metadata": {
    "execution": {
     "iopub.execute_input": "2020-11-22T03:25:09.031141Z",
     "iopub.status.busy": "2020-11-22T03:25:09.030144Z",
     "iopub.status.idle": "2020-11-22T03:25:09.059065Z",
     "shell.execute_reply": "2020-11-22T03:25:09.059065Z",
     "shell.execute_reply.started": "2020-11-22T03:25:09.031141Z"
    }
   },
   "outputs": [
    {
     "data": {
      "text/html": [
       "<div>\n",
       "<style scoped>\n",
       "    .dataframe tbody tr th:only-of-type {\n",
       "        vertical-align: middle;\n",
       "    }\n",
       "\n",
       "    .dataframe tbody tr th {\n",
       "        vertical-align: top;\n",
       "    }\n",
       "\n",
       "    .dataframe thead th {\n",
       "        text-align: right;\n",
       "    }\n",
       "</style>\n",
       "<table border=\"1\" class=\"dataframe\">\n",
       "  <thead>\n",
       "    <tr style=\"text-align: right;\">\n",
       "      <th></th>\n",
       "      <th>Positive</th>\n",
       "      <th>Negative</th>\n",
       "      <th>Neutral</th>\n",
       "    </tr>\n",
       "  </thead>\n",
       "  <tbody>\n",
       "    <tr>\n",
       "      <th>Positive</th>\n",
       "      <td>1715</td>\n",
       "      <td>193</td>\n",
       "      <td>239</td>\n",
       "    </tr>\n",
       "    <tr>\n",
       "      <th>Negative</th>\n",
       "      <td>161</td>\n",
       "      <td>1812</td>\n",
       "      <td>173</td>\n",
       "    </tr>\n",
       "    <tr>\n",
       "      <th>Neutral</th>\n",
       "      <td>152</td>\n",
       "      <td>138</td>\n",
       "      <td>1857</td>\n",
       "    </tr>\n",
       "  </tbody>\n",
       "</table>\n",
       "</div>"
      ],
      "text/plain": [
       "          Positive  Negative  Neutral\n",
       "Positive  1715      193       239    \n",
       "Negative  161       1812      173    \n",
       "Neutral   152       138       1857   "
      ]
     },
     "execution_count": 38,
     "metadata": {},
     "output_type": "execute_result"
    }
   ],
   "source": [
    "cm = confusion_matrix(ytest,ygrid,labels=lab)\n",
    "pd.DataFrame(cm, columns=lab,index=lab)"
   ]
  },
  {
   "cell_type": "code",
   "execution_count": 40,
   "metadata": {
    "execution": {
     "iopub.execute_input": "2020-11-22T03:25:31.327309Z",
     "iopub.status.busy": "2020-11-22T03:25:31.327309Z",
     "iopub.status.idle": "2020-11-22T03:25:31.337283Z",
     "shell.execute_reply": "2020-11-22T03:25:31.336285Z",
     "shell.execute_reply.started": "2020-11-22T03:25:31.327309Z"
    }
   },
   "outputs": [],
   "source": [
    "model = gridLR.best_estimator_"
   ]
  },
  {
   "cell_type": "markdown",
   "metadata": {},
   "source": [
    "## Note:\n",
    "\n",
    "- Hyper Parameter Tuning improve accuracy, precision, recall and f1-score up to 0.2 point.\n",
    "- Best parameter for Logistic Regression in this projects are c=1.5, solver=lbfgs, and penalty=l2"
   ]
  },
  {
   "cell_type": "markdown",
   "metadata": {},
   "source": [
    "## Export Model"
   ]
  },
  {
   "cell_type": "code",
   "execution_count": 41,
   "metadata": {
    "execution": {
     "iopub.execute_input": "2020-11-22T03:25:38.078220Z",
     "iopub.status.busy": "2020-11-22T03:25:38.078220Z",
     "iopub.status.idle": "2020-11-22T03:25:38.093190Z",
     "shell.execute_reply": "2020-11-22T03:25:38.093190Z",
     "shell.execute_reply.started": "2020-11-22T03:25:38.078220Z"
    }
   },
   "outputs": [],
   "source": [
    "import joblib"
   ]
  },
  {
   "cell_type": "code",
   "execution_count": 42,
   "metadata": {
    "execution": {
     "iopub.execute_input": "2020-11-22T03:25:58.065171Z",
     "iopub.status.busy": "2020-11-22T03:25:58.064173Z",
     "iopub.status.idle": "2020-11-22T03:25:59.512303Z",
     "shell.execute_reply": "2020-11-22T03:25:59.512303Z",
     "shell.execute_reply.started": "2020-11-22T03:25:58.065171Z"
    }
   },
   "outputs": [
    {
     "data": {
      "text/plain": [
       "['LogRegModel']"
      ]
     },
     "execution_count": 42,
     "metadata": {},
     "output_type": "execute_result"
    }
   ],
   "source": [
    "joblib.dump(model, \"LogRegModel\")"
   ]
  },
  {
   "cell_type": "code",
   "execution_count": 43,
   "metadata": {
    "execution": {
     "iopub.execute_input": "2020-11-22T14:37:19.896875Z",
     "iopub.status.busy": "2020-11-22T14:37:19.896875Z",
     "iopub.status.idle": "2020-11-22T14:37:19.924450Z",
     "shell.execute_reply": "2020-11-22T14:37:19.924450Z",
     "shell.execute_reply.started": "2020-11-22T14:37:19.896875Z"
    }
   },
   "outputs": [
    {
     "data": {
      "text/plain": [
       "0.7932778586113873"
      ]
     },
     "execution_count": 43,
     "metadata": {},
     "output_type": "execute_result"
    }
   ],
   "source": [
    "gridLR.best_score_"
   ]
  }
 ],
 "metadata": {
  "kernelspec": {
   "display_name": "Python 3",
   "language": "python",
   "name": "python3"
  },
  "language_info": {
   "codemirror_mode": {
    "name": "ipython",
    "version": 3
   },
   "file_extension": ".py",
   "mimetype": "text/x-python",
   "name": "python",
   "nbconvert_exporter": "python",
   "pygments_lexer": "ipython3",
   "version": "3.8.3"
  }
 },
 "nbformat": 4,
 "nbformat_minor": 4
}
